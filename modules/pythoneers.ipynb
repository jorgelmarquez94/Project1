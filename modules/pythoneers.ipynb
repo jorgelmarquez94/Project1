{
 "cells": [
  {
   "cell_type": "code",
   "execution_count": 276,
   "metadata": {},
   "outputs": [],
   "source": []
  },
  {
   "cell_type": "code",
   "execution_count": 277,
   "metadata": {},
   "outputs": [
    {
     "name": "stdout",
     "output_type": "stream",
     "text": [
      "Loading data, please wait...\n",
      "System ready\n"
     ]
    }
   ],
   "source": []
  },
  {
   "cell_type": "code",
   "execution_count": 278,
   "metadata": {},
   "outputs": [
    {
     "data": {
      "text/plain": [
       "id                                                int64\n",
       "listing_url                                      object\n",
       "scrape_id                                         int64\n",
       "last_scraped                                     object\n",
       "name                                             object\n",
       "summary                                          object\n",
       "space                                            object\n",
       "description                                      object\n",
       "experiences_offered                              object\n",
       "neighborhood_overview                            object\n",
       "notes                                            object\n",
       "transit                                          object\n",
       "access                                           object\n",
       "interaction                                      object\n",
       "house_rules                                      object\n",
       "thumbnail_url                                   float64\n",
       "medium_url                                      float64\n",
       "picture_url                                      object\n",
       "xl_picture_url                                  float64\n",
       "host_id                                           int64\n",
       "host_url                                         object\n",
       "host_name                                        object\n",
       "host_since                                       object\n",
       "host_location                                    object\n",
       "host_about                                       object\n",
       "host_response_time                               object\n",
       "host_response_rate                               object\n",
       "host_acceptance_rate                            float64\n",
       "host_is_superhost                                object\n",
       "host_thumbnail_url                               object\n",
       "host_picture_url                                 object\n",
       "host_neighbourhood                               object\n",
       "host_listings_count                             float64\n",
       "host_total_listings_count                       float64\n",
       "host_verifications                               object\n",
       "host_has_profile_pic                             object\n",
       "host_identity_verified                           object\n",
       "street                                           object\n",
       "neighbourhood                                    object\n",
       "neighbourhood_cleansed                           object\n",
       "neighbourhood_group_cleansed                    float64\n",
       "city                                             object\n",
       "state                                            object\n",
       "zipcode                                          object\n",
       "market                                           object\n",
       "smart_location                                   object\n",
       "country_code                                     object\n",
       "country                                          object\n",
       "latitude                                        float64\n",
       "longitude                                       float64\n",
       "is_location_exact                                object\n",
       "property_type                                    object\n",
       "room_type                                        object\n",
       "accommodates                                      int64\n",
       "bathrooms                                       float64\n",
       "bedrooms                                        float64\n",
       "beds                                            float64\n",
       "bed_type                                         object\n",
       "amenities                                        object\n",
       "square_feet                                     float64\n",
       "price                                            object\n",
       "weekly_price                                     object\n",
       "monthly_price                                    object\n",
       "security_deposit                                 object\n",
       "cleaning_fee                                     object\n",
       "guests_included                                   int64\n",
       "extra_people                                     object\n",
       "minimum_nights                                    int64\n",
       "maximum_nights                                    int64\n",
       "minimum_minimum_nights                            int64\n",
       "maximum_minimum_nights                            int64\n",
       "minimum_maximum_nights                            int64\n",
       "maximum_maximum_nights                            int64\n",
       "minimum_nights_avg_ntm                          float64\n",
       "maximum_nights_avg_ntm                          float64\n",
       "calendar_updated                                 object\n",
       "has_availability                                 object\n",
       "availability_30                                   int64\n",
       "availability_60                                   int64\n",
       "availability_90                                   int64\n",
       "availability_365                                  int64\n",
       "calendar_last_scraped                            object\n",
       "number_of_reviews                                 int64\n",
       "number_of_reviews_ltm                             int64\n",
       "first_review                                     object\n",
       "last_review                                      object\n",
       "review_scores_rating                            float64\n",
       "review_scores_accuracy                          float64\n",
       "review_scores_cleanliness                       float64\n",
       "review_scores_checkin                           float64\n",
       "review_scores_communication                     float64\n",
       "review_scores_location                          float64\n",
       "review_scores_value                             float64\n",
       "requires_license                                 object\n",
       "license                                          object\n",
       "jurisdiction_names                               object\n",
       "instant_bookable                                 object\n",
       "is_business_travel_ready                         object\n",
       "cancellation_policy                              object\n",
       "require_guest_profile_picture                    object\n",
       "require_guest_phone_verification                 object\n",
       "calculated_host_listings_count                    int64\n",
       "calculated_host_listings_count_entire_homes       int64\n",
       "calculated_host_listings_count_private_rooms      int64\n",
       "calculated_host_listings_count_shared_rooms       int64\n",
       "reviews_per_month                               float64\n",
       "dtype: object"
      ]
     },
     "execution_count": 278,
     "metadata": {},
     "output_type": "execute_result"
    }
   ],
   "source": [
    "AIRBNB_DT.dtypes"
   ]
  },
  {
   "cell_type": "code",
   "execution_count": 279,
   "metadata": {},
   "outputs": [
    {
     "data": {
      "text/plain": [
       "0    CA\n",
       "1    CA\n",
       "2    CA\n",
       "3    CA\n",
       "4    CA\n",
       "Name: state, dtype: object"
      ]
     },
     "execution_count": 279,
     "metadata": {},
     "output_type": "execute_result"
    }
   ],
   "source": [
    "AIRBNB_DT.state.head()"
   ]
  },
  {
   "cell_type": "code",
   "execution_count": 364,
   "metadata": {},
   "outputs": [],
   "source": [
    "class Airbnb:\n",
    "    def __init__(self, city):\n",
    "        self.city = city\n",
    "        \n",
    "    #Internal: It can be call by other method only.\n",
    "    def _line_plot(self, axis_x, axis_y, title, label_x, label_y, zoom_x, zoom_y):\n",
    "        line_plot_xlabel = axis_x\n",
    "        line_plot_ylabel = axis_y\n",
    "        \n",
    "        fig, line_plot_name = plt.subplots(figsize=(8,5))\n",
    "        fig.suptitle(title, fontsize='14')\n",
    "        \n",
    "        line_plot_name.plot(line_plot_xlabel, line_plot_ylabel)\n",
    "        \n",
    "        line_plot_name.grid()\n",
    "        line_plot_name.set_xlabel(label_x)\n",
    "        line_plot_name.set_ylabel(label_y)\n",
    "        try:\n",
    "            if list(zoom_x):\n",
    "                line_plot_name.set_xlim(zoom_x)\n",
    "        except:\n",
    "            pass\n",
    "        try:\n",
    "            if list(zoom_y):\n",
    "                line_plot_name.set_ylim(zoom_y)\n",
    "        except:\n",
    "            pass\n",
    "\n",
    "        return plt.show()\n",
    "    \n",
    "    #Internal: It can be call by other method only.\n",
    "    def _scatter_plot(self, axis_x, axis_y, title, label_x, label_y, zoom_x, zoom_y):\n",
    "        fig, plot_name = plt.subplots(figsize=(8,5))\n",
    "        fig.suptitle(title, fontsize='14')\n",
    "\n",
    "        plot_name.scatter(axis_x, axis_y, color='g', marker='o', edgecolors='r')\n",
    "\n",
    "        plot_name.grid()\n",
    "        plot_name.set_xlabel(label_x)\n",
    "        plot_name.set_ylabel(label_y)\n",
    "        try:\n",
    "            if list(zoom_x):\n",
    "                plot_name.set_xlim(zoom_x)\n",
    "        except:\n",
    "            pass\n",
    "        try:\n",
    "            if list(zoom_y):\n",
    "                plot_name.set_ylim(zoom_y)\n",
    "        except:\n",
    "            pass\n",
    "        plot_name.legend(loc='best')\n",
    "        return plt.show()\n",
    "    \n",
    "    #Internal: It can be call by other method only.\n",
    "    def _bar_plot(self, axis_x, axis_y, title, label_x, label_y, zoom_x, zoom_y):\n",
    "        #df_pivot.columns = ['Bedrooms', 'Room Type', 'Number of rooms']\n",
    "        bar_xlabel = axis_x\n",
    "        bar_ylabel = axis_y\n",
    "        #print(df_pivot.sum())\n",
    "        \n",
    "        fig, bar_plot_name = plt.subplots(figsize=(8,5))\n",
    "        fig.suptitle(title, fontsize='14')\n",
    "        \n",
    "        bar_plot_name.bar(bar_xlabel, bar_ylabel, align='center', alpha=0.5)\n",
    "        \n",
    "        bar_plot_name.grid()\n",
    "        bar_plot_name.set_xlabel(label_x)\n",
    "        bar_plot_name.set_ylabel(label_y)\n",
    "        try:\n",
    "            if list(zoom_x):\n",
    "                bar_plot_name.set_xlim(zoom_x)\n",
    "        except:\n",
    "            pass\n",
    "        try:\n",
    "            if list(zoom_y):\n",
    "                bar_plot_name.set_ylim(zoom_y)\n",
    "        except:\n",
    "            pass\n",
    "\n",
    "        return plt.show()\n",
    "    \n",
    "    #Internal: Determine whether a zoom value is valid or not\n",
    "    def _is_zoom(self, zoom_val):\n",
    "        if zoom_val[0] > 0 or zoom_val[1] > 0:\n",
    "            return zoom_val\n",
    "        else:\n",
    "            return False\n",
    "        \n",
    "    #Internal: Special function to format any row of any dataframe. Two types_format, money or float\n",
    "    def put_format_rows(df, row, type_format):\n",
    "        if type_format == 'money':\n",
    "            type_format = '${:,.2f}'\n",
    "        elif type_format == 'float':\n",
    "            type_format = '{:,.2f}'\n",
    "    \n",
    "        df[row] = df[row].map(type_format.format)\n",
    "        return df[row]\n",
    "    \n",
    "\n",
    "    #Parameters:\n",
    "    # *x_zoom (list): Zoom into x axis. Most have 2 values: [10,10]\n",
    "    # *y_zoom (list): Zoom into y axis. Most have 2 values: [25,55]\n",
    "    def supply_month(self, x_zoom, y_zoom):\n",
    "        print(f\"*Average Advertising per month: {AIRBNB_DT[AIRBNB_DT.state==self.city].id.count()}\") \n",
    "        return self._scatter_plot(AIRBNB_DT['review_scores_rating'],\n",
    "                 AIRBNB_DT[AIRBNB_DT.columns[62]].replace('[\\$,]', '', regex=True).astype(float),\n",
    "                 'Reviews vs Monthly Price', 'Reviews', 'Monthly Price', self._is_zoom(x_zoom), self._is_zoom(y_zoom) \n",
    "                )\n",
    "    #Calculate daily rate. Use 'price' column to do the math\n",
    "    def daily_rate(self):\n",
    "        #Average daily rate per month\n",
    "        self.daily_rate = AIRBNB_DT[AIRBNB_DT.columns[60]].replace('[\\$,]', '', regex=True).astype(float).mean()\n",
    "        print(f\"Average daily rate per month: {str(self.daily_rate)}\")\n",
    "    \n",
    "    #Calculate Availibility rate by periods.\n",
    "    #Parameters:\n",
    "    # *days (int): 30, 60, 90 or 365 days only. Other value will be rejected.\n",
    "    def aval_rate(self, days):\n",
    "        if days == 30 or days == 60 or days == 90 or days == 365:\n",
    "            days_range = 'availability_' + str(days)\n",
    "            return (AIRBNB_DT[days_range]/365*100).mean()\n",
    "        else:\n",
    "            return \"aval_rate accepts 30, 60, 90 or 365 days\"\n",
    "    \n",
    "    #Calculate Total Revenue rate by day, week, or month.\n",
    "    #Parameters:\n",
    "    # *period (str): (d)aily, (w)eekly and (m)onthly only. Other value will be rejected.\n",
    "    def total_revenue(self, period):\n",
    "        if period == 'd':\n",
    "            price_column = 'price'\n",
    "        elif period == 'w':\n",
    "            price_column = 'weekly_price'\n",
    "        elif period == 'm':\n",
    "            price_column = 'monthly_price'\n",
    "        else:\n",
    "            return 'Unknown period. total_revenue accepts (d)aily, (w)eekly and (m)onthly parameters only'\n",
    "        \n",
    "        return (AIRBNB_DT[price_column]).replace('[\\$,]', '', regex=True).astype(float).sum()\n",
    "    \n",
    "    #Create DF of Room types and count each type.\n",
    "    def room_type(self,):\n",
    "        #Los Angeles room by category (CHECK IF THERE MANY YEARS OF DATA)\n",
    "        room_type_df = AIRBNB_DT.groupby([\"room_type\"])[\"id\"].count().reset_index()\n",
    "        room_type_df.columns = ['Room Type', 'Quantity']\n",
    "        return room_type_df\n",
    "        #Los Angeles room category by percentage last month\n",
    "        #Grafica apilada por mes\n",
    "    \n",
    "    def bedrooms(self, x_zoom, y_zoom):\n",
    "        count_bedrooms = AIRBNB_DT.groupby(['bedrooms','room_type']).id.count().reset_index()\n",
    "        count_bedrooms_pivot = count_bedrooms.pivot(index = 'bedrooms', columns='room_type', values='id').reset_index()\n",
    "        print(count_bedrooms_pivot.fillna(0))\n",
    "        return self._bar_plot(count_bedrooms['bedrooms'],\n",
    "                              count_bedrooms['id'],\n",
    "                              'Bedrooms per propertie',\n",
    "                              'Bedrooms',\n",
    "                              'Properties',\n",
    "                              self._is_zoom(x_zoom),\n",
    "                              self._is_zoom(y_zoom)\n",
    "                             )\n",
    "    def score_rating(self, x_zoom, y_zoom):\n",
    "        return AIRBNB_DT['review_scores_rating'].mean()\n",
    "    \n",
    "    def review_type_room(self, x_zoom, y_zoom):\n",
    "        rtr_dr = AIRBNB_DT.groupby('room_type').review_scores_rating.mean().reset_index()\n",
    "        print(rtr_dr)\n",
    "        return self._bar_plot(rtr_dr['room_type'], \n",
    "                               rtr_dr['review_scores_rating'], \n",
    "                               'Avg Reviews per room type', 'Room Type', 'Avg. Reviews', self._is_zoom(x_zoom),\n",
    "                              self._is_zoom(y_zoom))"
   ]
  },
  {
   "cell_type": "code",
   "execution_count": 365,
   "metadata": {},
   "outputs": [],
   "source": [
    "city = Airbnb('CA')"
   ]
  },
  {
   "cell_type": "code",
   "execution_count": 362,
   "metadata": {},
   "outputs": [
    {
     "name": "stdout",
     "output_type": "stream",
     "text": [
      "         room_type  review_scores_rating\n",
      "0  Entire home/apt             94.642219\n",
      "1     Private room             94.625798\n",
      "2      Shared room             90.082372\n"
     ]
    },
    {
     "data": {
      "image/png": "[encoded data removed]",
      "text/plain": [
       "<Figure size 576x360 with 1 Axes>"
      ]
     },
     "metadata": {
      "needs_background": "light"
     },
     "output_type": "display_data"
    }
   ],
   "source": [
    "city.review_type_room([0,0],[85,100])"
   ]
  },
  {
   "cell_type": "code",
   "execution_count": 347,
   "metadata": {},
   "outputs": [
    {
     "name": "stdout",
     "output_type": "stream",
     "text": [
      "*Average Advertising per month: 43894\n"
     ]
    },
    {
     "data": {
      "image/png": "[encoded data removed]",
      "text/plain": [
       "<Figure size 576x360 with 1 Axes>"
      ]
     },
     "metadata": {
      "needs_background": "light"
     },
     "output_type": "display_data"
    }
   ],
   "source": [
    "city.supply_month([0,0],[0,0])"
   ]
  },
  {
   "cell_type": "code",
   "execution_count": 348,
   "metadata": {},
   "outputs": [
    {
     "name": "stdout",
     "output_type": "stream",
     "text": [
      "Average daily rate per month: 199.5699595031169\n"
     ]
    }
   ],
   "source": [
    "city.daily_rate()"
   ]
  },
  {
   "cell_type": "code",
   "execution_count": 349,
   "metadata": {},
   "outputs": [
    {
     "data": {
      "text/plain": [
       "43.92808546419171"
      ]
     },
     "execution_count": 349,
     "metadata": {},
     "output_type": "execute_result"
    }
   ],
   "source": [
    "city.aval_rate(365)"
   ]
  },
  {
   "cell_type": "code",
   "execution_count": 350,
   "metadata": {},
   "outputs": [
    {
     "data": {
      "text/plain": [
       "16997600.0"
      ]
     },
     "execution_count": 350,
     "metadata": {},
     "output_type": "execute_result"
    }
   ],
   "source": [
    "city.total_revenue('m')"
   ]
  },
  {
   "cell_type": "code",
   "execution_count": 351,
   "metadata": {},
   "outputs": [
    {
     "data": {
      "text/html": [
       "<div>\n",
       "<style scoped>\n",
       "    .dataframe tbody tr th:only-of-type {\n",
       "        vertical-align: middle;\n",
       "    }\n",
       "\n",
       "    .dataframe tbody tr th {\n",
       "        vertical-align: top;\n",
       "    }\n",
       "\n",
       "    .dataframe thead th {\n",
       "        text-align: right;\n",
       "    }\n",
       "</style>\n",
       "<table border=\"1\" class=\"dataframe\">\n",
       "  <thead>\n",
       "    <tr style=\"text-align: right;\">\n",
       "      <th></th>\n",
       "      <th>Room Type</th>\n",
       "      <th>Quantity</th>\n",
       "    </tr>\n",
       "  </thead>\n",
       "  <tbody>\n",
       "    <tr>\n",
       "      <th>0</th>\n",
       "      <td>Entire home/apt</td>\n",
       "      <td>27612</td>\n",
       "    </tr>\n",
       "    <tr>\n",
       "      <th>1</th>\n",
       "      <td>Private room</td>\n",
       "      <td>14563</td>\n",
       "    </tr>\n",
       "    <tr>\n",
       "      <th>2</th>\n",
       "      <td>Shared room</td>\n",
       "      <td>1779</td>\n",
       "    </tr>\n",
       "  </tbody>\n",
       "</table>\n",
       "</div>"
      ],
      "text/plain": [
       "         Room Type  Quantity\n",
       "0  Entire home/apt     27612\n",
       "1     Private room     14563\n",
       "2      Shared room      1779"
      ]
     },
     "execution_count": 351,
     "metadata": {},
     "output_type": "execute_result"
    }
   ],
   "source": [
    "city.room_type()"
   ]
  },
  {
   "cell_type": "code",
   "execution_count": 352,
   "metadata": {},
   "outputs": [
    {
     "name": "stdout",
     "output_type": "stream",
     "text": [
      "room_type  bedrooms  Entire home/apt  Private room  Shared room\n",
      "0               0.0           4258.0         493.0          1.0\n",
      "1               1.0          10514.0       13381.0       1778.0\n",
      "2               2.0           7268.0         540.0          0.0\n",
      "3               3.0           3252.0          98.0          0.0\n",
      "4               4.0           1383.0          31.0          0.0\n",
      "5               5.0            599.0          11.0          0.0\n",
      "6               6.0            182.0           1.0          0.0\n",
      "7               7.0             93.0           1.0          0.0\n",
      "8               8.0             20.0           1.0          0.0\n",
      "9               9.0             13.0           1.0          0.0\n",
      "10             10.0              7.0           0.0          0.0\n",
      "11             11.0              4.0           1.0          0.0\n",
      "12             12.0              0.0           1.0          0.0\n"
     ]
    },
    {
     "data": {
      "image/png": "[encoded data removed]",
      "text/plain": [
       "<Figure size 576x360 with 1 Axes>"
      ]
     },
     "metadata": {
      "needs_background": "light"
     },
     "output_type": "display_data"
    }
   ],
   "source": [
    "city.bedrooms([0,0],[0,0])"
   ]
  },
  {
   "cell_type": "code",
   "execution_count": 298,
   "metadata": {},
   "outputs": [
    {
     "data": {
      "text/plain": [
       "94.47813486370158"
      ]
     },
     "execution_count": 298,
     "metadata": {},
     "output_type": "execute_result"
    }
   ],
   "source": [
    "city.score_rating([0,0],[0,0])"
   ]
  },
  {
   "cell_type": "code",
   "execution_count": 68,
   "metadata": {},
   "outputs": [
    {
     "ename": "NameError",
     "evalue": "name 'la_df' is not defined",
     "output_type": "error",
     "traceback": [
      "\u001b[0;31m---------------------------------------------------------------------------\u001b[0m",
      "\u001b[0;31mNameError\u001b[0m                                 Traceback (most recent call last)",
      "\u001b[0;32m<ipython-input-68-4ec577c67c3e>\u001b[0m in \u001b[0;36m<module>\u001b[0;34m\u001b[0m\n\u001b[0;32m----> 1\u001b[0;31m \u001b[0mla_df\u001b[0m\u001b[0;34m.\u001b[0m\u001b[0mshape\u001b[0m\u001b[0;34m\u001b[0m\u001b[0;34m\u001b[0m\u001b[0m\n\u001b[0m",
      "\u001b[0;31mNameError\u001b[0m: name 'la_df' is not defined"
     ]
    }
   ],
   "source": [
    "la_df.shape"
   ]
  },
  {
   "cell_type": "code",
   "execution_count": 8,
   "metadata": {},
   "outputs": [
    {
     "data": {
      "text/plain": [
       "1032.0467144795502"
      ]
     },
     "execution_count": 8,
     "metadata": {},
     "output_type": "execute_result"
    }
   ],
   "source": [
    "#Average daily rate\n",
    "# Parameters: (d)aily, (w)eekly, (m)onthly\n",
    "avg_price('w')"
   ]
  },
  {
   "cell_type": "code",
   "execution_count": 10,
   "metadata": {},
   "outputs": [
    {
     "data": {
      "text/plain": [
       "105"
      ]
     },
     "execution_count": 10,
     "metadata": {},
     "output_type": "execute_result"
    }
   ],
   "source": [
    "la_df.columns.get_loc(\"reviews_per_month\")"
   ]
  },
  {
   "cell_type": "code",
   "execution_count": 84,
   "metadata": {},
   "outputs": [
    {
     "data": {
      "text/plain": [
       "100.0"
      ]
     },
     "execution_count": 84,
     "metadata": {},
     "output_type": "execute_result"
    }
   ],
   "source": [
    "la_df['review_scores_rating'].max()"
   ]
  },
  {
   "cell_type": "code",
   "execution_count": 85,
   "metadata": {},
   "outputs": [
    {
     "data": {
      "text/plain": [
       "20.0"
      ]
     },
     "execution_count": 85,
     "metadata": {},
     "output_type": "execute_result"
    }
   ],
   "source": [
    "la_df['review_scores_rating'].min()"
   ]
  },
  {
   "cell_type": "code",
   "execution_count": 86,
   "metadata": {},
   "outputs": [
    {
     "data": {
      "text/plain": [
       "97.0"
      ]
     },
     "execution_count": 86,
     "metadata": {},
     "output_type": "execute_result"
    }
   ],
   "source": [
    "la_df['review_scores_rating'].median()"
   ]
  },
  {
   "cell_type": "code",
   "execution_count": 87,
   "metadata": {},
   "outputs": [
    {
     "data": {
      "text/plain": [
       "94.47813486370158"
      ]
     },
     "execution_count": 87,
     "metadata": {},
     "output_type": "execute_result"
    }
   ],
   "source": [
    "la_df['review_scores_rating'].mean()"
   ]
  },
  {
   "cell_type": "code",
   "execution_count": null,
   "metadata": {},
   "outputs": [],
   "source": []
  },
  {
   "cell_type": "code",
   "execution_count": 12,
   "metadata": {},
   "outputs": [],
   "source": [
    "#Bedrooms vs \n",
    "\n",
    "def airbnb_plot(plot_name, axis_x, axis_y, title, labelx, labely):\n",
    "    fig, plot_name = plt.subplots(figsize=(8,5))\n",
    "    fig.suptitle(title, fontsize='14')\n",
    "    \n",
    "    axis_xs = axis_x\n",
    "    axis_xs_mean = axis_xs.mean()\n",
    "    axis_ys = axis_y\n",
    "\n",
    "    plot_name.scatter(axis_xs, axis_ys, color='g', marker='o', edgecolors='r')\n",
    "    #plot_name.scatter(scatter_x, scatter_y_reviews, color='b', marker='o', edgecolors='r')\n",
    "    plot_name.grid()\n",
    "    plot_name.set_xlabel(labelx)\n",
    "    plot_name.set_ylabel(labely)\n",
    "    #plot_name.set_xlim([60,105])\n",
    "    plot_name.legend(loc='best')\n",
    "    return plt.show()"
   ]
  },
  {
   "cell_type": "code",
   "execution_count": 13,
   "metadata": {},
   "outputs": [
    {
     "data": {
      "image/png": "[encoded data removed]",
      "text/plain": [
       "<Figure size 576x360 with 1 Axes>"
      ]
     },
     "metadata": {
      "needs_background": "light"
     },
     "output_type": "display_data"
    }
   ],
   "source": [
    "airbnb_plot('plt_1',\n",
    "            la_df['review_scores_rating'],\n",
    "            la_df[la_df.columns[62]].replace('[\\$,]', '', regex=True).astype(float), \n",
    "            'Reviews vs Monthly Price', 'Reviews', 'Monthly Price')"
   ]
  },
  {
   "cell_type": "code",
   "execution_count": 26,
   "metadata": {},
   "outputs": [],
   "source": [
    "numeric_df = la_df.select_dtypes(include=['int','float'])"
   ]
  },
  {
   "cell_type": "code",
   "execution_count": 28,
   "metadata": {},
   "outputs": [
    {
     "data": {
      "text/plain": [
       "id                                                int64\n",
       "scrape_id                                         int64\n",
       "thumbnail_url                                   float64\n",
       "medium_url                                      float64\n",
       "xl_picture_url                                  float64\n",
       "host_id                                           int64\n",
       "host_acceptance_rate                            float64\n",
       "host_listings_count                             float64\n",
       "host_total_listings_count                       float64\n",
       "neighbourhood_group_cleansed                    float64\n",
       "latitude                                        float64\n",
       "longitude                                       float64\n",
       "accommodates                                      int64\n",
       "bathrooms                                       float64\n",
       "bedrooms                                        float64\n",
       "beds                                            float64\n",
       "square_feet                                     float64\n",
       "guests_included                                   int64\n",
       "minimum_nights                                    int64\n",
       "maximum_nights                                    int64\n",
       "minimum_minimum_nights                            int64\n",
       "maximum_minimum_nights                            int64\n",
       "minimum_maximum_nights                            int64\n",
       "maximum_maximum_nights                            int64\n",
       "minimum_nights_avg_ntm                          float64\n",
       "maximum_nights_avg_ntm                          float64\n",
       "availability_30                                   int64\n",
       "availability_60                                   int64\n",
       "availability_90                                   int64\n",
       "availability_365                                  int64\n",
       "number_of_reviews                                 int64\n",
       "number_of_reviews_ltm                             int64\n",
       "review_scores_rating                            float64\n",
       "review_scores_accuracy                          float64\n",
       "review_scores_cleanliness                       float64\n",
       "review_scores_checkin                           float64\n",
       "review_scores_communication                     float64\n",
       "review_scores_location                          float64\n",
       "review_scores_value                             float64\n",
       "calculated_host_listings_count                    int64\n",
       "calculated_host_listings_count_entire_homes       int64\n",
       "calculated_host_listings_count_private_rooms      int64\n",
       "calculated_host_listings_count_shared_rooms       int64\n",
       "reviews_per_month                               float64\n",
       "dtype: object"
      ]
     },
     "execution_count": 28,
     "metadata": {},
     "output_type": "execute_result"
    }
   ],
   "source": [
    "numeric_df.dtypes"
   ]
  },
  {
   "cell_type": "code",
   "execution_count": 56,
   "metadata": {},
   "outputs": [
    {
     "data": {
      "text/plain": [
       "array(['Entire home/apt', 'Private room', 'Shared room'], dtype=object)"
      ]
     },
     "execution_count": 56,
     "metadata": {},
     "output_type": "execute_result"
    }
   ],
   "source": [
    "la_df[\"room_type\"].unique()"
   ]
  },
  {
   "cell_type": "code",
   "execution_count": 58,
   "metadata": {},
   "outputs": [],
   "source": [
    "entire_home_apt_df = la_df[la_df[\"room_type\"] == 'Entire home/apt']"
   ]
  },
  {
   "cell_type": "code",
   "execution_count": 82,
   "metadata": {
    "scrolled": false
   },
   "outputs": [],
   "source": [
    "entire_home_apt_df.head()\n",
    "bad_reviews = entire_home_apt_df[entire_home_apt_df['review_scores_rating']<= 93]\n",
    "good_reviews = entire_home_apt_df[entire_home_apt_df['review_scores_rating']> 93]"
   ]
  },
  {
   "cell_type": "code",
   "execution_count": 83,
   "metadata": {},
   "outputs": [
    {
     "data": {
      "image/png": "[encoded data removed]",
      "text/plain": [
       "<Figure size 576x360 with 1 Axes>"
      ]
     },
     "metadata": {
      "needs_background": "light"
     },
     "output_type": "display_data"
    },
    {
     "data": {
      "image/png": "[encoded data removed]",
      "text/plain": [
       "<Figure size 576x360 with 1 Axes>"
      ]
     },
     "metadata": {
      "needs_background": "light"
     },
     "output_type": "display_data"
    }
   ],
   "source": [
    "airbnb_plot('plt__entire_home_bad',\n",
    "            bad_reviews['review_scores_rating'],\n",
    "            bad_reviews[la_df.columns[62]].replace('[\\$,]', '', regex=True).astype(float), \n",
    "            'Reviews vs Monthly Price (Entire Home / Apt) (<=93)', 'Reviews', 'Monthly Price')\n",
    "\n",
    "airbnb_plot('plt__entire_home_good',\n",
    "            good_reviews['review_scores_rating'],\n",
    "            good_reviews[la_df.columns[62]].replace('[\\$,]', '', regex=True).astype(float), \n",
    "            'Reviews vs Monthly Price (Entire Home / Apt) (>93)', 'Reviews', 'Monthly Price')"
   ]
  },
  {
   "cell_type": "code",
   "execution_count": null,
   "metadata": {},
   "outputs": [],
   "source": [
    "entire_home_apt_mean = entire_home_apt_df['review_scores_rating'].dropna()"
   ]
  },
  {
   "cell_type": "code",
   "execution_count": null,
   "metadata": {},
   "outputs": [],
   "source": [
    "entire_home_apt_mean"
   ]
  },
  {
   "cell_type": "code",
   "execution_count": 62,
   "metadata": {},
   "outputs": [],
   "source": [
    "q1 = np.percentile(entire_home_apt_mean, 25)"
   ]
  },
  {
   "cell_type": "code",
   "execution_count": 63,
   "metadata": {},
   "outputs": [
    {
     "data": {
      "text/plain": [
       "93.0"
      ]
     },
     "execution_count": 63,
     "metadata": {},
     "output_type": "execute_result"
    }
   ],
   "source": [
    "q1"
   ]
  },
  {
   "cell_type": "code",
   "execution_count": 64,
   "metadata": {},
   "outputs": [],
   "source": [
    "q3 = np.percentile(entire_home_apt_mean, 75)"
   ]
  },
  {
   "cell_type": "code",
   "execution_count": 65,
   "metadata": {},
   "outputs": [
    {
     "data": {
      "text/plain": [
       "100.0"
      ]
     },
     "execution_count": 65,
     "metadata": {},
     "output_type": "execute_result"
    }
   ],
   "source": [
    "q3"
   ]
  },
  {
   "cell_type": "code",
   "execution_count": 66,
   "metadata": {},
   "outputs": [
    {
     "data": {
      "text/plain": [
       "100.0"
      ]
     },
     "execution_count": 66,
     "metadata": {},
     "output_type": "execute_result"
    }
   ],
   "source": [
    "entire_home_apt_mean.max()"
   ]
  },
  {
   "cell_type": "code",
   "execution_count": null,
   "metadata": {},
   "outputs": [],
   "source": []
  }
 ],
 "metadata": {
  "kernelspec": {
   "display_name": "Python 3",
   "language": "python",
   "name": "python3"
  },
  "language_info": {
   "codemirror_mode": {
    "name": "ipython",
    "version": 3
   },
   "file_extension": ".py",
   "mimetype": "text/x-python",
   "name": "python",
   "nbconvert_exporter": "python",
   "pygments_lexer": "ipython3",
   "version": "3.7.1"
  }
 },
 "nbformat": 4,
 "nbformat_minor": 2
}
