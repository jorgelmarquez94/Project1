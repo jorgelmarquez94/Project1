{
 "cells": [
  {
   "cell_type": "markdown",
   "metadata": {},
   "source": [
    "# Airbnb\n",
    "Note\n",
    "Instructions have been included for each segment. \n",
    "You do not have to follow them exactly, but they are included to help you think through the steps."
   ]
  },
  {
   "cell_type": "code",
   "execution_count": 1,
   "metadata": {},
   "outputs": [
    {
     "name": "stdout",
     "output_type": "stream",
     "text": [
      "Loading data, please wait...\n",
      "System ready\n"
     ]
    }
   ],
   "source": [
    "# Standard library imports\n",
    "\n",
    "# Third party imports\n",
    "import pandas as pd\n",
    "import matplotlib.pyplot as plt\n",
    "import numpy as np\n",
    "\n",
    "# Local application imports\n",
    "##from modules import pyneers\n",
    "# Hide warning messages in notebook\n",
    "import warnings\n",
    "warnings.filterwarnings('ignore')\n",
    "\n",
    "#Code to diplay all data columns \n",
    "pd.set_option('display.max_columns', None)\n",
    "pd.set_option('display.max_rows', None)\n",
    "\n",
    "error_message_ = 'Loading data, please wait...'\n",
    "#Load Airbnb Data Frame and assign to a CONSTANT\n",
    "#AIRBN_DT = pd.read_csv('http://data.insideairbnb.com/united-states/ca/los-angeles/2019-05-05/data/listings.csv')\n",
    "print(error_message_)\n",
    "try:\n",
    "    error_message_ = 'System ready'\n",
    "    AIRBNB_DT = pd.read_csv('data/listings.csv')\n",
    "    print(error_message_)\n",
    "except:\n",
    "    print(\"Unexpected error found. Make sure CSV exist\")"
   ]
  },
  {
   "cell_type": "code",
   "execution_count": 2,
   "metadata": {},
   "outputs": [],
   "source": [
    "# Local application imports\n",
    "##from modules import Airbnb\n",
    "class Airbnb:\n",
    "    def __init__(self, city):\n",
    "        self.city = city\n",
    "        \n",
    "    #Internal: It can be call by other method only.\n",
    "    def _line_plot(self, axis_x, axis_y, title, label_x, label_y, zoom_x, zoom_y):\n",
    "        line_plot_xlabel = axis_x\n",
    "        line_plot_ylabel = axis_y\n",
    "        \n",
    "        fig, line_plot_name = plt.subplots(figsize=(8,5))\n",
    "        fig.suptitle(title, fontsize='14')\n",
    "        \n",
    "        line_plot_name.plot(line_plot_xlabel, line_plot_ylabel)\n",
    "        \n",
    "        line_plot_name.grid()\n",
    "        line_plot_name.set_xlabel(label_x)\n",
    "        line_plot_name.set_ylabel(label_y)\n",
    "        try:\n",
    "            if list(zoom_x):\n",
    "                line_plot_name.set_xlim(zoom_x)\n",
    "        except:\n",
    "            pass\n",
    "        try:\n",
    "            if list(zoom_y):\n",
    "                line_plot_name.set_ylim(zoom_y)\n",
    "        except:\n",
    "            pass\n",
    "\n",
    "        return plt.show()\n",
    "    \n",
    "    #Internal: It can be call by other method only.\n",
    "    def _scatter_plot(self, axis_x, axis_y, title, label_x, label_y, zoom_x, zoom_y):\n",
    "        fig, plot_name = plt.subplots(figsize=(8,5))\n",
    "        fig.suptitle(title, fontsize='14')\n",
    "\n",
    "        plot_name.scatter(axis_x, axis_y, color='g', marker='o', edgecolors='r')\n",
    "\n",
    "        plot_name.grid()\n",
    "        plot_name.set_xlabel(label_x)\n",
    "        plot_name.set_ylabel(label_y)\n",
    "        try:\n",
    "            if list(zoom_x):\n",
    "                plot_name.set_xlim(zoom_x)\n",
    "        except:\n",
    "            pass\n",
    "        try:\n",
    "            if list(zoom_y):\n",
    "                plot_name.set_ylim(zoom_y)\n",
    "        except:\n",
    "            pass\n",
    "        plot_name.legend(loc='best')\n",
    "        return plt.show()\n",
    "    \n",
    "    #Internal: It can be call by other method only.\n",
    "    def _bar_plot(self, axis_x, axis_y, title, label_x, label_y, zoom_x, zoom_y):\n",
    "        #df_pivot.columns = ['Bedrooms', 'Room Type', 'Number of rooms']\n",
    "        bar_xlabel = axis_x\n",
    "        bar_ylabel = axis_y\n",
    "        #print(df_pivot.sum())\n",
    "        \n",
    "        fig, bar_plot_name = plt.subplots(figsize=(8,5))\n",
    "        fig.suptitle(title, fontsize='14')\n",
    "        \n",
    "        bar_plot_name.bar(bar_xlabel, bar_ylabel, align='center', alpha=0.5)\n",
    "        \n",
    "        bar_plot_name.grid()\n",
    "        bar_plot_name.set_xlabel(label_x)\n",
    "        bar_plot_name.set_ylabel(label_y)\n",
    "        try:\n",
    "            if list(zoom_x):\n",
    "                bar_plot_name.set_xlim(zoom_x)\n",
    "        except:\n",
    "            pass\n",
    "        try:\n",
    "            if list(zoom_y):\n",
    "                bar_plot_name.set_ylim(zoom_y)\n",
    "        except:\n",
    "            pass\n",
    "\n",
    "        return plt.show()\n",
    "    \n",
    "    #Internal: Determine whether a zoom value is valid or not\n",
    "    def _is_zoom(self, zoom_val):\n",
    "        if zoom_val[0] > 0 or zoom_val[1] > 0:\n",
    "            return zoom_val\n",
    "        else:\n",
    "            return False\n",
    "        \n",
    "    #Internal: Special function to format any row of any dataframe. Two types_format, money or float\n",
    "    def put_format_rows(df, row, type_format):\n",
    "        if type_format == 'money':\n",
    "            type_format = '${:,.2f}'\n",
    "        elif type_format == 'float':\n",
    "            type_format = '{:,.2f}'\n",
    "    \n",
    "        df[row] = df[row].map(type_format.format)\n",
    "        return df[row]\n",
    "    \n",
    "\n",
    "    #Parameters:\n",
    "    # *x_zoom (list): Zoom into x axis. Most have 2 values: [10,10]\n",
    "    # *y_zoom (list): Zoom into y axis. Most have 2 values: [25,55]\n",
    "    def supply_month(self, x_zoom, y_zoom):\n",
    "        print(f\"*Average Advertising per month: {AIRBNB_DT[AIRBNB_DT.state==self.city].id.count()}\") \n",
    "        return self._scatter_plot(AIRBNB_DT['review_scores_rating'],\n",
    "                 AIRBNB_DT[AIRBNB_DT.columns[62]].replace('[\\$,]', '', regex=True).astype(float),\n",
    "                 'Reviews vs Monthly Price', 'Reviews', 'Monthly Price', self._is_zoom(x_zoom), self._is_zoom(y_zoom) \n",
    "                )\n",
    "    #Calculate daily rate. Use 'price' column to do the math\n",
    "    def daily_rate(self):\n",
    "        #Average daily rate per month\n",
    "        self.daily_rate = AIRBNB_DT[AIRBNB_DT.columns[60]].replace('[\\$,]', '', regex=True).astype(float).mean()\n",
    "        print(f\"Average daily rate per month: {str(self.daily_rate)}\")\n",
    "    \n",
    "    #Calculate Availibility rate by periods.\n",
    "    #Parameters:\n",
    "    # *days (int): 30, 60, 90 or 365 days only. Other value will be rejected.\n",
    "    def aval_rate(self, days):\n",
    "        if days == 30 or days == 60 or days == 90 or days == 365:\n",
    "            days_range = 'availability_' + str(days)\n",
    "            return (AIRBNB_DT[days_range]/365*100).mean()\n",
    "        else:\n",
    "            return \"aval_rate accepts 30, 60, 90 or 365 days\"\n",
    "    \n",
    "    #Calculate Total Revenue rate by day, week, or month.\n",
    "    #Parameters:\n",
    "    # *period (str): (d)aily, (w)eekly and (m)onthly only. Other value will be rejected.\n",
    "    def total_revenue(self, period):\n",
    "        if period == 'd':\n",
    "            price_column = 'price'\n",
    "        elif period == 'w':\n",
    "            price_column = 'weekly_price'\n",
    "        elif period == 'm':\n",
    "            price_column = 'monthly_price'\n",
    "        else:\n",
    "            return 'Unknown period. total_revenue accepts (d)aily, (w)eekly and (m)onthly parameters only'\n",
    "        \n",
    "        return (AIRBNB_DT[price_column]).replace('[\\$,]', '', regex=True).astype(float).sum()\n",
    "    \n",
    "    #Create DF of Room types and count each type.\n",
    "    def room_type(self,):\n",
    "        #Los Angeles room by category (CHECK IF THERE MANY YEARS OF DATA)\n",
    "        room_type_df = AIRBNB_DT.groupby([\"room_type\"])[\"id\"].count().reset_index()\n",
    "        room_type_df.columns = ['Room Type', 'Quantity']\n",
    "        return room_type_df\n",
    "        #Los Angeles room category by percentage last month\n",
    "        #Grafica apilada por mes\n",
    "    \n",
    "    def bedrooms(self, x_zoom, y_zoom):\n",
    "        count_bedrooms = AIRBNB_DT.groupby(['bedrooms','room_type']).id.count().reset_index()\n",
    "        count_bedrooms_pivot = count_bedrooms.pivot(index = 'bedrooms', columns='room_type', values='id').reset_index()\n",
    "        print(count_bedrooms_pivot.fillna(0))\n",
    "        return self._bar_plot(count_bedrooms['bedrooms'],\n",
    "                              count_bedrooms['id'],\n",
    "                              'Bedrooms per propertie',\n",
    "                              'Bedrooms',\n",
    "                              'Properties',\n",
    "                              self._is_zoom(x_zoom),\n",
    "                              self._is_zoom(y_zoom)\n",
    "                             )\n",
    "    \n",
    "    def review_type_room(self, x_zoom, y_zoom):\n",
    "        rtr_dr = AIRBNB_DT.groupby('room_type').review_scores_rating.mean().reset_index()\n",
    "        print(rtr_dr)\n",
    "        return self._bar_plot(rtr_dr['room_type'], \n",
    "                               rtr_dr['review_scores_rating'], \n",
    "                               'Reviews per room type (%)', 'Room Type', 'Avg. Reviews', self._is_zoom(x_zoom),\n",
    "                              self._is_zoom(y_zoom))"
   ]
  },
  {
   "cell_type": "markdown",
   "metadata": {},
   "source": [
    "# Overview Los Angeles-Airbnb market april 2018 to may 2019"
   ]
  },
  {
   "cell_type": "code",
   "execution_count": 3,
   "metadata": {},
   "outputs": [],
   "source": [
    "city = Airbnb('CA')"
   ]
  },
  {
   "cell_type": "markdown",
   "metadata": {},
   "source": [
    "## Supply month"
   ]
  },
  {
   "cell_type": "code",
   "execution_count": 4,
   "metadata": {},
   "outputs": [
    {
     "name": "stdout",
     "output_type": "stream",
     "text": [
      "*Average Advertising per month: 43894\n"
     ]
    },
    {
     "data": {
      "image/png": "[encoded data removed]",
      "text/plain": [
       "<Figure size 576x360 with 1 Axes>"
      ]
     },
     "metadata": {
      "needs_background": "light"
     },
     "output_type": "display_data"
    }
   ],
   "source": [
    "city.supply_month([0,0],[0,0])"
   ]
  },
  {
   "cell_type": "markdown",
   "metadata": {},
   "source": [
    "## Daily Rate per month"
   ]
  },
  {
   "cell_type": "code",
   "execution_count": 5,
   "metadata": {},
   "outputs": [
    {
     "name": "stdout",
     "output_type": "stream",
     "text": [
      "Average daily rate per month: 199.5699595031169\n"
     ]
    }
   ],
   "source": [
    "city.daily_rate()"
   ]
  },
  {
   "cell_type": "markdown",
   "metadata": {},
   "source": [
    "## Availability per month"
   ]
  },
  {
   "cell_type": "code",
   "execution_count": 6,
   "metadata": {},
   "outputs": [
    {
     "data": {
      "text/plain": [
       "43.92808546419171"
      ]
     },
     "execution_count": 6,
     "metadata": {},
     "output_type": "execute_result"
    }
   ],
   "source": [
    "city.aval_rate(365)"
   ]
  },
  {
   "cell_type": "markdown",
   "metadata": {},
   "source": [
    "## Total revenue"
   ]
  },
  {
   "cell_type": "code",
   "execution_count": 7,
   "metadata": {},
   "outputs": [
    {
     "data": {
      "text/plain": [
       "16997600.0"
      ]
     },
     "execution_count": 7,
     "metadata": {},
     "output_type": "execute_result"
    }
   ],
   "source": [
    "city.total_revenue('m')"
   ]
  },
  {
   "cell_type": "markdown",
   "metadata": {},
   "source": [
    "## Room Type list"
   ]
  },
  {
   "cell_type": "code",
   "execution_count": 8,
   "metadata": {},
   "outputs": [
    {
     "data": {
      "text/html": [
       "<div>\n",
       "<style scoped>\n",
       "    .dataframe tbody tr th:only-of-type {\n",
       "        vertical-align: middle;\n",
       "    }\n",
       "\n",
       "    .dataframe tbody tr th {\n",
       "        vertical-align: top;\n",
       "    }\n",
       "\n",
       "    .dataframe thead th {\n",
       "        text-align: right;\n",
       "    }\n",
       "</style>\n",
       "<table border=\"1\" class=\"dataframe\">\n",
       "  <thead>\n",
       "    <tr style=\"text-align: right;\">\n",
       "      <th></th>\n",
       "      <th>Room Type</th>\n",
       "      <th>Quantity</th>\n",
       "    </tr>\n",
       "  </thead>\n",
       "  <tbody>\n",
       "    <tr>\n",
       "      <th>0</th>\n",
       "      <td>Entire home/apt</td>\n",
       "      <td>27612</td>\n",
       "    </tr>\n",
       "    <tr>\n",
       "      <th>1</th>\n",
       "      <td>Private room</td>\n",
       "      <td>14563</td>\n",
       "    </tr>\n",
       "    <tr>\n",
       "      <th>2</th>\n",
       "      <td>Shared room</td>\n",
       "      <td>1779</td>\n",
       "    </tr>\n",
       "  </tbody>\n",
       "</table>\n",
       "</div>"
      ],
      "text/plain": [
       "         Room Type  Quantity\n",
       "0  Entire home/apt     27612\n",
       "1     Private room     14563\n",
       "2      Shared room      1779"
      ]
     },
     "execution_count": 8,
     "metadata": {},
     "output_type": "execute_result"
    }
   ],
   "source": [
    "city.room_type()"
   ]
  },
  {
   "cell_type": "markdown",
   "metadata": {},
   "source": [
    "## Bedrooms per propertie"
   ]
  },
  {
   "cell_type": "code",
   "execution_count": 9,
   "metadata": {},
   "outputs": [
    {
     "name": "stdout",
     "output_type": "stream",
     "text": [
      "room_type  bedrooms  Entire home/apt  Private room  Shared room\n",
      "0               0.0           4258.0         493.0          1.0\n",
      "1               1.0          10514.0       13381.0       1778.0\n",
      "2               2.0           7268.0         540.0          0.0\n",
      "3               3.0           3252.0          98.0          0.0\n",
      "4               4.0           1383.0          31.0          0.0\n",
      "5               5.0            599.0          11.0          0.0\n",
      "6               6.0            182.0           1.0          0.0\n",
      "7               7.0             93.0           1.0          0.0\n",
      "8               8.0             20.0           1.0          0.0\n",
      "9               9.0             13.0           1.0          0.0\n",
      "10             10.0              7.0           0.0          0.0\n",
      "11             11.0              4.0           1.0          0.0\n",
      "12             12.0              0.0           1.0          0.0\n"
     ]
    },
    {
     "data": {
      "image/png": "[encoded data removed]",
      "text/plain": [
       "<Figure size 576x360 with 1 Axes>"
      ]
     },
     "metadata": {
      "needs_background": "light"
     },
     "output_type": "display_data"
    }
   ],
   "source": [
    "city.bedrooms([0,0],[0,0])"
   ]
  },
  {
   "cell_type": "markdown",
   "metadata": {},
   "source": [
    "## Bedrooms per room type"
   ]
  },
  {
   "cell_type": "code",
   "execution_count": 10,
   "metadata": {},
   "outputs": [
    {
     "name": "stdout",
     "output_type": "stream",
     "text": [
      "         room_type  review_scores_rating\n",
      "0  Entire home/apt             94.642219\n",
      "1     Private room             94.625798\n",
      "2      Shared room             90.082372\n"
     ]
    },
    {
     "data": {
      "image/png": "[encoded data removed]",
      "text/plain": [
       "<Figure size 576x360 with 1 Axes>"
      ]
     },
     "metadata": {
      "needs_background": "light"
     },
     "output_type": "display_data"
    }
   ],
   "source": [
    "city.review_type_room([0,0],[85,100])"
   ]
  },
  {
   "cell_type": "markdown",
   "metadata": {},
   "source": [
    "## Average Price per neighborhood (Top 5)"
   ]
  },
  {
   "cell_type": "code",
   "execution_count": 11,
   "metadata": {},
   "outputs": [],
   "source": [
    "#Los Angeles average price per neighborhood (to get the top 5 best neighborhoods)\n",
    "\n",
    "#Graph (bars)"
   ]
  },
  {
   "cell_type": "code",
   "execution_count": 12,
   "metadata": {},
   "outputs": [],
   "source": [
    "#Los Angeles average reviews per neighborhood (to get the top 5 best neighborhoods)\n",
    "\n",
    "#Graph (bars)"
   ]
  },
  {
   "cell_type": "code",
   "execution_count": 13,
   "metadata": {},
   "outputs": [],
   "source": [
    "#Hipotesis nula: malos reviews con buenos reviews son las mismas\n",
    "#Hipotesis alternativa: los reviews afectan al precio\n",
    "#Calcular promedios de los precios con malos y buenos reviews( por debajo y encima del promedio)\n",
    "#calcular promedios de los precios con buenos y malos reviews (q1 y q3)\n"
   ]
  },
  {
   "cell_type": "code",
   "execution_count": 14,
   "metadata": {},
   "outputs": [],
   "source": [
    "#API del banco mundial para obtener salario o pib per capita y compararlo con el ingreso de airbnb mensual\n",
    "#graficar"
   ]
  }
 ],
 "metadata": {
  "kernelspec": {
   "display_name": "Python 3",
   "language": "python",
   "name": "python3"
  },
  "language_info": {
   "codemirror_mode": {
    "name": "ipython",
    "version": 3
   },
   "file_extension": ".py",
   "mimetype": "text/x-python",
   "name": "python",
   "nbconvert_exporter": "python",
   "pygments_lexer": "ipython3",
   "version": "3.7.1"
  }
 },
 "nbformat": 4,
 "nbformat_minor": 2
}
