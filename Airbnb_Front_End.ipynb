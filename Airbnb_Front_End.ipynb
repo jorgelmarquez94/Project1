{
 "cells": [
  {
   "cell_type": "markdown",
   "metadata": {},
   "source": [
    "# Airbnb\n",
    "Note\n",
    "Instructions have been included for each segment. \n",
    "You do not have to follow them exactly, but they are included to help you think through the steps."
   ]
  },
  {
   "cell_type": "code",
   "execution_count": 1,
   "metadata": {},
   "outputs": [
    {
     "name": "stdout",
     "output_type": "stream",
     "text": [
      "Loading data, please wait...\n",
      "System ready\n"
     ]
    }
   ],
   "source": [
    "# Standard library imports\n",
    "\n",
    "# Third party imports\n",
    "import pandas as pd\n",
    "import matplotlib.pyplot as plt\n",
    "import numpy as np\n",
    "\n",
    "# Local application imports\n",
    "##from modules import pyneers\n",
    "# Hide warning messages in notebook\n",
    "import warnings\n",
    "warnings.filterwarnings('ignore')\n",
    "\n",
    "#Code to diplay all data columns \n",
    "pd.set_option('display.max_columns', None)\n",
    "pd.set_option('display.max_rows', None)\n",
    "\n",
    "error_message_ = 'Loading data, please wait...'\n",
    "#Load Airbnb Data Frame and assign to a CONSTANT\n",
    "print(error_message_)\n",
    "try:\n",
    "    error_message_ = 'System ready'\n",
    "    AIRBNB_DT = pd.read_csv('data/listings.csv')\n",
    "    print(error_message_)\n",
    "except:\n",
    "    print(\"Unexpected error found. Make sure CSV exist\")"
   ]
  },
  {
   "cell_type": "code",
   "execution_count": 75,
   "metadata": {},
   "outputs": [],
   "source": [
    "# Local application imports\n",
    "##from modules import Airbnb\n",
    "class Airbnb:\n",
    "    def __init__(self, city):\n",
    "        self.city = city\n",
    "        self.df = AIRBNB_DT[AIRBNB_DT['state'] == self.city]\n",
    "        self.df['price'] = self.df['price'].replace('[\\$,]', '', regex=True).astype(float)\n",
    "        self.df['weekly_price'] = self.df['weekly_price'].replace('[\\$,]', '', regex=True).astype(float)\n",
    "        self.df['monthly_price'] = self.df['monthly_price'].replace('[\\$,]', '', regex=True).astype(float)\n",
    "        \n",
    "        print(f\"{self.city} loaded and ready to analyze\")\n",
    "        \n",
    "    #Internal: It can be call by other method only.\n",
    "    def _line_plot(self, axis_x, axis_y, title, label_x, label_y, zoom_x, zoom_y):\n",
    "        line_plot_xlabel = axis_x\n",
    "        line_plot_ylabel = axis_y\n",
    "        \n",
    "        fig, line_plot_name = plt.subplots(figsize=(8,5))\n",
    "        fig.suptitle(title, fontsize='14')\n",
    "        \n",
    "        line_plot_name.plot(line_plot_xlabel, line_plot_ylabel)\n",
    "        \n",
    "        line_plot_name.grid()\n",
    "        line_plot_name.set_xlabel(label_x)\n",
    "        line_plot_name.set_ylabel(label_y)\n",
    "        try:\n",
    "            if list(zoom_x):\n",
    "                line_plot_name.set_xlim(zoom_x)\n",
    "        except:\n",
    "            pass\n",
    "        try:\n",
    "            if list(zoom_y):\n",
    "                line_plot_name.set_ylim(zoom_y)\n",
    "        except:\n",
    "            pass\n",
    "\n",
    "        return plt.show()\n",
    "    \n",
    "    #Internal: It can be call by other method only.\n",
    "    def _scatter_plot(self, axis_x, axis_y, title, label_x, label_y, zoom_x, zoom_y):\n",
    "        fig, plot_name = plt.subplots(figsize=(8,5))\n",
    "        fig.suptitle(title, fontsize='14')\n",
    "\n",
    "        plot_name.scatter(axis_x, axis_y, color='g', marker='o', edgecolors='r')\n",
    "\n",
    "        plot_name.grid()\n",
    "        plot_name.set_xlabel(label_x)\n",
    "        plot_name.set_ylabel(label_y)\n",
    "        try:\n",
    "            if list(zoom_x):\n",
    "                plot_name.set_xlim(zoom_x)\n",
    "        except:\n",
    "            pass\n",
    "        try:\n",
    "            if list(zoom_y):\n",
    "                plot_name.set_ylim(zoom_y)\n",
    "        except:\n",
    "            pass\n",
    "        plot_name.legend(loc='best')\n",
    "        return plt.show()\n",
    "    \n",
    "    #Internal: It can be call by other method only.\n",
    "    def _bar_plot(self, axis_x, axis_y, title, label_x, label_y, zoom_x, zoom_y):\n",
    "        bar_xlabel = axis_x\n",
    "        bar_ylabel = axis_y\n",
    "        \n",
    "        fig, bar_plot_name = plt.subplots(figsize=(8,5))\n",
    "        fig.suptitle(title, fontsize='14')\n",
    "        \n",
    "        bar_plot_name.bar(bar_xlabel, bar_ylabel, align='center', alpha=0.5)\n",
    "        \n",
    "        bar_plot_name.grid()\n",
    "        bar_plot_name.set_xlabel(label_x)\n",
    "        bar_plot_name.set_ylabel(label_y)\n",
    "        try:\n",
    "            if list(zoom_x):\n",
    "                bar_plot_name.set_xlim(zoom_x)\n",
    "        except:\n",
    "            pass\n",
    "        try:\n",
    "            if list(zoom_y):\n",
    "                bar_plot_name.set_ylim(zoom_y)\n",
    "        except:\n",
    "            pass\n",
    "\n",
    "        return plt.show()\n",
    "    \n",
    "    #Internal: Determine whether a zoom value is valid or not\n",
    "    def _is_zoom(self, zoom_val):\n",
    "        if zoom_val[0] > 0 or zoom_val[1] > 0:\n",
    "            return zoom_val\n",
    "        else:\n",
    "            return False\n",
    "    \n",
    "    #Parameters:\n",
    "    # *x_zoom (list): Zoom into x axis. Most have 2 values: [10,10]\n",
    "    # *y_zoom (list): Zoom into y axis. Most have 2 values: [25,55]\n",
    "    def supply_month(self, x_zoom, y_zoom):\n",
    "        print(f\"*Average Advertising per month: {self.df.id.count()}\") \n",
    "        return self._scatter_plot(self.df['review_scores_rating'],\n",
    "                                  self.df['monthly_price'],\n",
    "                                  'Reviews vs Monthly Price',\n",
    "                                  'Reviews',\n",
    "                                  'Monthly Price',\n",
    "                                  self._is_zoom(x_zoom),\n",
    "                                  self._is_zoom(y_zoom)\n",
    "                                 )\n",
    "    #Calculate daily rate. Use 'price' column to do the math\n",
    "    def daily_rate(self):\n",
    "        #Average daily rate per month\n",
    "        self.daily_rate = self.df.price.mean()\n",
    "        print(f\"Average daily rate: {str(self.daily_rate)}\")\n",
    "    \n",
    "    #Calculate Availibility rate by periods.\n",
    "    #Parameters:\n",
    "    # *days (int): 30, 60, 90 or 365 days only. Other value will be rejected.\n",
    "    def aval_rate(self, days):\n",
    "        if days == 30 or days == 60 or days == 90 or days == 365:\n",
    "            days_range = 'availability_' + str(days)\n",
    "            return (self.df[days_range]/days*100).mean()\n",
    "        else:\n",
    "            return \"aval_rate accepts 30, 60, 90 or 365 days\"\n",
    "    \n",
    "    #Calculate Total Revenue rate by day, week, or month.\n",
    "    #Parameters:\n",
    "    # *period (str): (d)aily, (w)eekly and (m)onthly only. Other value will be rejected.\n",
    "    def total_revenue(self, period):\n",
    "        if period == 'd':\n",
    "            price_column = 'price'\n",
    "        elif period == 'w':\n",
    "            price_column = 'weekly_price'\n",
    "        elif period == 'm':\n",
    "            price_column = 'monthly_price'\n",
    "        else:\n",
    "            return 'Unknown period. total_revenue accepts (d)aily, (w)eekly and (m)onthly parameters only'\n",
    "\n",
    "        return self.df[price_column].mean()\n",
    "    \n",
    "    #Create DF of Room types and count each type.\n",
    "    def room_type(self,):\n",
    "        #Los Angeles room by category (CHECK IF THERE MANY YEARS OF DATA)\n",
    "        room_type_df = self.df.groupby([\"room_type\"])[\"id\"].count().reset_index()\n",
    "        room_type_df.columns = ['Room Type', 'Quantity']\n",
    "        return room_type_df\n",
    "        #Los Angeles room category by percentage last month\n",
    "        #Grafica apilada por mes\n",
    "    \n",
    "    def bedrooms(self, x_zoom, y_zoom):\n",
    "        count_bedrooms = self.df.groupby(['bedrooms','room_type']).id.count().reset_index()\n",
    "        count_bedrooms_pivot = count_bedrooms.pivot(index = 'bedrooms', columns='room_type', values='id').reset_index()\n",
    "        print(count_bedrooms_pivot.fillna(0))\n",
    "        return self._bar_plot(count_bedrooms['bedrooms'],\n",
    "                              count_bedrooms['id'],\n",
    "                              'Bedrooms per propertie',\n",
    "                              'Bedrooms',\n",
    "                              'Properties',\n",
    "                              self._is_zoom(x_zoom),\n",
    "                              self._is_zoom(y_zoom)\n",
    "                             )\n",
    "    \n",
    "    def review_type_room(self, x_zoom, y_zoom):\n",
    "        rtr_dr = self.df.groupby('room_type').review_scores_rating.mean().reset_index()\n",
    "        print(rtr_dr)\n",
    "        return self._bar_plot(rtr_dr['room_type'], \n",
    "                               rtr_dr['review_scores_rating'], \n",
    "                               'Reviews per room type (%)', 'Room Type', 'Avg. Reviews', self._is_zoom(x_zoom),\n",
    "                              self._is_zoom(y_zoom))\n",
    "    \n",
    "    def neighborhood(self, x_zoom, y_zoom, type_):\n",
    "        if type_ == 'p':\n",
    "            type_lookup = 'price'\n",
    "            type_ylabel = 'Price'\n",
    "            type_title = 'Avg. price per neighborhood'\n",
    "        elif type_ == 'r':\n",
    "            type_lookup = 'review_scores_rating'\n",
    "            type_ylabel = 'Reviews scores'\n",
    "            type_title = 'Avg. reviews per neighborhood'\n",
    "        else:\n",
    "            return f\"Type {type_} doesn't exist. (p)rice and (r)eviews score rating accepted only\"\n",
    "            \n",
    "        neigh_dr = self.df.groupby('neighbourhood')[type_lookup].mean().reset_index().sort_values(type_lookup, ascending=False).head(5)\n",
    "        print(neigh_dr)\n",
    "        return self._bar_plot(neigh_dr['neighbourhood'],\n",
    "                              neigh_dr[type_lookup],\n",
    "                              type_title,\n",
    "                              'Neighborhood', type_ylabel,\n",
    "                              self._is_zoom(x_zoom),\n",
    "                              self._is_zoom(y_zoom))"
   ]
  },
  {
   "cell_type": "markdown",
   "metadata": {},
   "source": [
    "# Overview Los Angeles-Airbnb market \n",
    "#### april 2018 to may 2019"
   ]
  },
  {
   "cell_type": "code",
   "execution_count": 76,
   "metadata": {},
   "outputs": [
    {
     "name": "stdout",
     "output_type": "stream",
     "text": [
      "CA loaded and ready to analyze\n"
     ]
    }
   ],
   "source": [
    "city = Airbnb('CA')"
   ]
  },
  {
   "cell_type": "markdown",
   "metadata": {},
   "source": [
    "## Supply month"
   ]
  },
  {
   "cell_type": "code",
   "execution_count": 77,
   "metadata": {},
   "outputs": [
    {
     "name": "stdout",
     "output_type": "stream",
     "text": [
      "*Average Advertising per month: 43894\n"
     ]
    },
    {
     "data": {
      "image/png": "[encoded data removed]",
      "text/plain": [
       "<Figure size 576x360 with 1 Axes>"
      ]
     },
     "metadata": {
      "needs_background": "light"
     },
     "output_type": "display_data"
    }
   ],
   "source": [
    "city.supply_month([60,100],[1,10000])"
   ]
  },
  {
   "cell_type": "markdown",
   "metadata": {},
   "source": [
    "## Daily Rate per month"
   ]
  },
  {
   "cell_type": "code",
   "execution_count": 78,
   "metadata": {},
   "outputs": [
    {
     "name": "stdout",
     "output_type": "stream",
     "text": [
      "Average daily rate: 199.57964642092313\n"
     ]
    }
   ],
   "source": [
    "city.daily_rate()\n",
    "#Gráfica por mes"
   ]
  },
  {
   "cell_type": "markdown",
   "metadata": {},
   "source": [
    "## Availability per month"
   ]
  },
  {
   "cell_type": "code",
   "execution_count": 79,
   "metadata": {},
   "outputs": [
    {
     "data": {
      "text/plain": [
       "43.91193978519703"
      ]
     },
     "execution_count": 79,
     "metadata": {},
     "output_type": "execute_result"
    }
   ],
   "source": [
    "city.aval_rate(365)"
   ]
  },
  {
   "cell_type": "code",
   "execution_count": 80,
   "metadata": {},
   "outputs": [
    {
     "data": {
      "text/plain": [
       "id                                                int64\n",
       "listing_url                                      object\n",
       "scrape_id                                         int64\n",
       "last_scraped                                     object\n",
       "name                                             object\n",
       "summary                                          object\n",
       "space                                            object\n",
       "description                                      object\n",
       "experiences_offered                              object\n",
       "neighborhood_overview                            object\n",
       "notes                                            object\n",
       "transit                                          object\n",
       "access                                           object\n",
       "interaction                                      object\n",
       "house_rules                                      object\n",
       "thumbnail_url                                   float64\n",
       "medium_url                                      float64\n",
       "picture_url                                      object\n",
       "xl_picture_url                                  float64\n",
       "host_id                                           int64\n",
       "host_url                                         object\n",
       "host_name                                        object\n",
       "host_since                                       object\n",
       "host_location                                    object\n",
       "host_about                                       object\n",
       "host_response_time                               object\n",
       "host_response_rate                               object\n",
       "host_acceptance_rate                            float64\n",
       "host_is_superhost                                object\n",
       "host_thumbnail_url                               object\n",
       "host_picture_url                                 object\n",
       "host_neighbourhood                               object\n",
       "host_listings_count                             float64\n",
       "host_total_listings_count                       float64\n",
       "host_verifications                               object\n",
       "host_has_profile_pic                             object\n",
       "host_identity_verified                           object\n",
       "street                                           object\n",
       "neighbourhood                                    object\n",
       "neighbourhood_cleansed                           object\n",
       "neighbourhood_group_cleansed                    float64\n",
       "city                                             object\n",
       "state                                            object\n",
       "zipcode                                          object\n",
       "market                                           object\n",
       "smart_location                                   object\n",
       "country_code                                     object\n",
       "country                                          object\n",
       "latitude                                        float64\n",
       "longitude                                       float64\n",
       "is_location_exact                                object\n",
       "property_type                                    object\n",
       "room_type                                        object\n",
       "accommodates                                      int64\n",
       "bathrooms                                       float64\n",
       "bedrooms                                        float64\n",
       "beds                                            float64\n",
       "bed_type                                         object\n",
       "amenities                                        object\n",
       "square_feet                                     float64\n",
       "price                                            object\n",
       "weekly_price                                     object\n",
       "monthly_price                                    object\n",
       "security_deposit                                 object\n",
       "cleaning_fee                                     object\n",
       "guests_included                                   int64\n",
       "extra_people                                     object\n",
       "minimum_nights                                    int64\n",
       "maximum_nights                                    int64\n",
       "minimum_minimum_nights                            int64\n",
       "maximum_minimum_nights                            int64\n",
       "minimum_maximum_nights                            int64\n",
       "maximum_maximum_nights                            int64\n",
       "minimum_nights_avg_ntm                          float64\n",
       "maximum_nights_avg_ntm                          float64\n",
       "calendar_updated                                 object\n",
       "has_availability                                 object\n",
       "availability_30                                   int64\n",
       "availability_60                                   int64\n",
       "availability_90                                   int64\n",
       "availability_365                                  int64\n",
       "calendar_last_scraped                            object\n",
       "number_of_reviews                                 int64\n",
       "number_of_reviews_ltm                             int64\n",
       "first_review                                     object\n",
       "last_review                                      object\n",
       "review_scores_rating                            float64\n",
       "review_scores_accuracy                          float64\n",
       "review_scores_cleanliness                       float64\n",
       "review_scores_checkin                           float64\n",
       "review_scores_communication                     float64\n",
       "review_scores_location                          float64\n",
       "review_scores_value                             float64\n",
       "requires_license                                 object\n",
       "license                                          object\n",
       "jurisdiction_names                               object\n",
       "instant_bookable                                 object\n",
       "is_business_travel_ready                         object\n",
       "cancellation_policy                              object\n",
       "require_guest_profile_picture                    object\n",
       "require_guest_phone_verification                 object\n",
       "calculated_host_listings_count                    int64\n",
       "calculated_host_listings_count_entire_homes       int64\n",
       "calculated_host_listings_count_private_rooms      int64\n",
       "calculated_host_listings_count_shared_rooms       int64\n",
       "reviews_per_month                               float64\n",
       "dtype: object"
      ]
     },
     "execution_count": 80,
     "metadata": {},
     "output_type": "execute_result"
    }
   ],
   "source": [
    "AIRBNB_DT.dtypes"
   ]
  },
  {
   "cell_type": "markdown",
   "metadata": {},
   "source": [
    "## Total revenue"
   ]
  },
  {
   "cell_type": "code",
   "execution_count": 81,
   "metadata": {},
   "outputs": [
    {
     "data": {
      "text/plain": [
       "1032.2547078237235"
      ]
     },
     "execution_count": 81,
     "metadata": {},
     "output_type": "execute_result"
    }
   ],
   "source": [
    "city.total_revenue('w')"
   ]
  },
  {
   "cell_type": "markdown",
   "metadata": {},
   "source": [
    "## Room Type list"
   ]
  },
  {
   "cell_type": "code",
   "execution_count": 50,
   "metadata": {},
   "outputs": [
    {
     "data": {
      "text/html": [
       "<div>\n",
       "<style scoped>\n",
       "    .dataframe tbody tr th:only-of-type {\n",
       "        vertical-align: middle;\n",
       "    }\n",
       "\n",
       "    .dataframe tbody tr th {\n",
       "        vertical-align: top;\n",
       "    }\n",
       "\n",
       "    .dataframe thead th {\n",
       "        text-align: right;\n",
       "    }\n",
       "</style>\n",
       "<table border=\"1\" class=\"dataframe\">\n",
       "  <thead>\n",
       "    <tr style=\"text-align: right;\">\n",
       "      <th></th>\n",
       "      <th>Room Type</th>\n",
       "      <th>Quantity</th>\n",
       "    </tr>\n",
       "  </thead>\n",
       "  <tbody>\n",
       "    <tr>\n",
       "      <th>0</th>\n",
       "      <td>Entire home/apt</td>\n",
       "      <td>27576</td>\n",
       "    </tr>\n",
       "    <tr>\n",
       "      <th>1</th>\n",
       "      <td>Private room</td>\n",
       "      <td>14539</td>\n",
       "    </tr>\n",
       "    <tr>\n",
       "      <th>2</th>\n",
       "      <td>Shared room</td>\n",
       "      <td>1779</td>\n",
       "    </tr>\n",
       "  </tbody>\n",
       "</table>\n",
       "</div>"
      ],
      "text/plain": [
       "         Room Type  Quantity\n",
       "0  Entire home/apt     27576\n",
       "1     Private room     14539\n",
       "2      Shared room      1779"
      ]
     },
     "execution_count": 50,
     "metadata": {},
     "output_type": "execute_result"
    }
   ],
   "source": [
    "city.room_type()"
   ]
  },
  {
   "cell_type": "markdown",
   "metadata": {},
   "source": [
    "## Bedrooms per propertie"
   ]
  },
  {
   "cell_type": "code",
   "execution_count": 51,
   "metadata": {},
   "outputs": [
    {
     "name": "stdout",
     "output_type": "stream",
     "text": [
      "room_type  bedrooms  Entire home/apt  Private room  Shared room\n",
      "0               0.0           4256.0         489.0          1.0\n",
      "1               1.0          10499.0       13363.0       1778.0\n",
      "2               2.0           7257.0         538.0          0.0\n",
      "3               3.0           3249.0          98.0          0.0\n",
      "4               4.0           1380.0          31.0          0.0\n",
      "5               5.0            598.0          11.0          0.0\n",
      "6               6.0            182.0           1.0          0.0\n",
      "7               7.0             92.0           1.0          0.0\n",
      "8               8.0             20.0           1.0          0.0\n",
      "9               9.0             13.0           1.0          0.0\n",
      "10             10.0              7.0           0.0          0.0\n",
      "11             11.0              4.0           1.0          0.0\n",
      "12             12.0              0.0           1.0          0.0\n"
     ]
    },
    {
     "data": {
      "image/png": "[encoded data removed]",
      "text/plain": [
       "<Figure size 576x360 with 1 Axes>"
      ]
     },
     "metadata": {
      "needs_background": "light"
     },
     "output_type": "display_data"
    }
   ],
   "source": [
    "city.bedrooms([0,0],[0,0])"
   ]
  },
  {
   "cell_type": "markdown",
   "metadata": {},
   "source": [
    "## Bedrooms per room type"
   ]
  },
  {
   "cell_type": "code",
   "execution_count": 71,
   "metadata": {},
   "outputs": [
    {
     "name": "stdout",
     "output_type": "stream",
     "text": [
      "         room_type  review_scores_rating\n",
      "0  Entire home/apt             94.645280\n",
      "1     Private room             94.628839\n",
      "2      Shared room             90.082372\n"
     ]
    },
    {
     "data": {
      "image/png": "[encoded data removed]",
      "text/plain": [
       "<Figure size 576x360 with 1 Axes>"
      ]
     },
     "metadata": {
      "needs_background": "light"
     },
     "output_type": "display_data"
    }
   ],
   "source": [
    "city.review_type_room([0,0],[85,105])"
   ]
  },
  {
   "cell_type": "markdown",
   "metadata": {},
   "source": [
    "## Average Price per neighborhood (Top 5)"
   ]
  },
  {
   "cell_type": "code",
   "execution_count": 69,
   "metadata": {},
   "outputs": [
    {
     "name": "stdout",
     "output_type": "stream",
     "text": [
      "             neighbourhood        price\n",
      "109          Rolling Hills  1883.750000\n",
      "77                  Malibu  1447.008310\n",
      "11   Bel Air/Beverly Crest  1132.241441\n",
      "69           Laurel Canyon   725.027473\n",
      "17                Bradbury   699.500000\n"
     ]
    },
    {
     "data": {
      "image/png": "[encoded data removed]",
      "text/plain": [
       "<Figure size 576x360 with 1 Axes>"
      ]
     },
     "metadata": {
      "needs_background": "light"
     },
     "output_type": "display_data"
    }
   ],
   "source": [
    "#Los Angeles average price per neighborhood (to get the top 5 best neighborhoods)\n",
    "city.neighborhood([0,0],[0,0],'p')\n",
    "#Graph (bars)"
   ]
  },
  {
   "cell_type": "code",
   "execution_count": 56,
   "metadata": {},
   "outputs": [
    {
     "name": "stdout",
     "output_type": "stream",
     "text": [
      "            neighbourhood  review_scores_rating\n",
      "13           Bell Gardens            100.000000\n",
      "61              Irwindale             99.750000\n",
      "4                  Arleta             98.555556\n",
      "63  La Crescenta-Montrose             98.384615\n",
      "59        Huntington Park             98.166667\n"
     ]
    },
    {
     "data": {
      "image/png": "[encoded data removed]",
      "text/plain": [
       "<Figure size 576x360 with 1 Axes>"
      ]
     },
     "metadata": {
      "needs_background": "light"
     },
     "output_type": "display_data"
    }
   ],
   "source": [
    "#Los Angeles average reviews per neighborhood (to get the top 5 best neighborhoods)\n",
    "city.neighborhood([0,0],[80,105],'r')\n",
    "#Graph (bars)"
   ]
  },
  {
   "cell_type": "code",
   "execution_count": 13,
   "metadata": {},
   "outputs": [],
   "source": [
    "#Hipotesis nula: malos reviews con buenos reviews son las mismas\n",
    "#Hipotesis alternativa: los reviews afectan al precio\n",
    "#Calcular promedios de los precios con malos y buenos reviews( por debajo y encima del promedio)\n",
    "#calcular promedios de los precios con buenos y malos reviews (q1 y q3)\n"
   ]
  },
  {
   "cell_type": "code",
   "execution_count": 14,
   "metadata": {},
   "outputs": [],
   "source": [
    "#API del banco mundial para obtener salario o pib per capita y compararlo con el ingreso de airbnb mensual\n",
    "#graficar"
   ]
  }
 ],
 "metadata": {
  "kernelspec": {
   "display_name": "Python 3",
   "language": "python",
   "name": "python3"
  },
  "language_info": {
   "codemirror_mode": {
    "name": "ipython",
    "version": 3
   },
   "file_extension": ".py",
   "mimetype": "text/x-python",
   "name": "python",
   "nbconvert_exporter": "python",
   "pygments_lexer": "ipython3",
   "version": "3.7.1"
  }
 },
 "nbformat": 4,
 "nbformat_minor": 2
}
