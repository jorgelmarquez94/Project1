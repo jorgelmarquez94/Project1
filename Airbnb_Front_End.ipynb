{
 "cells": [
  {
   "cell_type": "markdown",
   "metadata": {},
   "source": [
    "# Is Airbnb profitable business?\n",
    "\n",
    "### To understand Airbnb business model better we've analyzed L.A. City market to find out:\n",
    "\n",
    "* What would be the average night rate for a room/apartment in LA?\n",
    "* What variables determine the price of the night rate in Airbnb? (Pendiente Alfonso)\n",
    "* How big is LA Airbnb market?\n",
    "* Which part of the city is more profitable?\n",
    "* Are they changing their rates according to the month/season?\n",
    "* Is price influenced by location or reviews?"
   ]
  },
  {
   "cell_type": "markdown",
   "metadata": {},
   "source": [
    "# Airbnb Los Angeles Data Analysis \n",
    "### Team members\n",
    "* George Márquez\n",
    "* Nestos Matus\n",
    "* Alfonso Delgado\n",
    "* Alberto Castillo"
   ]
  },
  {
   "cell_type": "markdown",
   "metadata": {},
   "source": [
    "# Data preparation\n",
    "\n",
    "### Challenge:\n",
    "* Gather information from a web site with no API support\n",
    "* CSV files were separated per month\n",
    "* No \"month\" column included\n",
    "* Some columns like price hadn't int or float values but strings\n",
    "\n",
    "### Solution\n",
    "* Build a script to download every csv file according to url directory: http://data.insideairbnb.com/united-states/ca/los-angeles/2019-07-08/data/listings.csv.gz\n",
    "* Rename CSV files according file downloaded\n",
    "* Build a loop script to insert \"month\" column inside each file and apply a replace/regex function to convert price column from string to float "
   ]
  },
  {
   "cell_type": "markdown",
   "metadata": {},
   "source": [
    "We will perform exploratory data analysis on the Airbnb dataset gotten from Inside Airbnb."
   ]
  },
  {
   "cell_type": "code",
   "execution_count": 1,
   "metadata": {},
   "outputs": [
    {
     "name": "stdout",
     "output_type": "stream",
     "text": [
      "Loading data, please wait...\n",
      "System ready\n"
     ]
    }
   ],
   "source": [
    "# Standard library imports\n",
    "from IPython.display import display, HTML\n",
    "# Third party imports\n",
    "import pandas as pd\n",
    "import matplotlib.pyplot as plt\n",
    "import numpy as np\n",
    "import scipy.stats as stats\n",
    "\n",
    "# Local application imports\n",
    "##from modules import pyneers\n",
    "# Hide warning messages in notebook\n",
    "import warnings\n",
    "warnings.filterwarnings('ignore')\n",
    "\n",
    "#Code to diplay all data columns \n",
    "pd.set_option('display.max_columns', None)\n",
    "pd.set_option('display.max_rows', None)\n",
    "\n",
    "error_message_ = 'Loading data, please wait...'\n",
    "#Load Airbnb Data Frame and assign to a CONSTANT\n",
    "print(error_message_)\n",
    "try:\n",
    "    error_message_ = 'System ready'\n",
    "    AIRBNB_DT = pd.read_csv('csv/airbnb_cleaned3.csv')\n",
    "    print(error_message_)\n",
    "except:\n",
    "    print(\"Unexpected error found. Make sure CSV exists\")"
   ]
  },
  {
   "cell_type": "code",
   "execution_count": 2,
   "metadata": {},
   "outputs": [],
   "source": [
    "# Local application imports\n",
    "##from modules import Airbnb\n",
    "class Airbnb:\n",
    "    def __init__(self, city):\n",
    "        self.city = city\n",
    "        self.df = AIRBNB_DT[AIRBNB_DT['state'] == self.city]\n",
    "        #self.df['pythrs_month'].replace('may-19', 'May 2019')\n",
    "        self.list_months = self.df.groupby('pythrs_month').id.count().reset_index() \n",
    "        self.list_months.columns = ['Months', 'Rows']\n",
    "        print(f\"{self.city} loaded and ready to analyze:\")\n",
    "        self.list_months['Rows'] = self._put_format_rows(self.list_months, 'Rows', 'float')\n",
    "        display(self.reindex_(self.list_months))\n",
    "        \n",
    "        return None\n",
    "        \n",
    "    #Internal: It can be call by other method only.\n",
    "    def _line_plot(self, axis_x, axis_y, title, label_x, label_y, zoom_x, zoom_y):\n",
    "        line_plot_xlabel = axis_x\n",
    "        line_plot_ylabel = axis_y\n",
    "        \n",
    "        fig, line_plot_name = plt.subplots(figsize=(8,5))\n",
    "        fig.suptitle(title, fontsize='14')\n",
    "        \n",
    "        line_plot_name.plot(line_plot_xlabel, line_plot_ylabel)\n",
    "        \n",
    "        line_plot_name.grid()\n",
    "        line_plot_name.set_xlabel(label_x)\n",
    "        line_plot_name.set_ylabel(label_y)\n",
    "        try:\n",
    "            if list(zoom_x):\n",
    "                line_plot_name.set_xlim(zoom_x)\n",
    "        except:\n",
    "            pass\n",
    "        try:\n",
    "            if list(zoom_y):\n",
    "                line_plot_name.set_ylim(zoom_y)\n",
    "        except:\n",
    "            pass\n",
    "\n",
    "        return plt.show()\n",
    "    \n",
    "    #Internal: It can be call by other method only.\n",
    "    def _scatter_plot(self, axis_x, axis_y, title, label_x, label_y, zoom_x, zoom_y):\n",
    "        fig, plot_name = plt.subplots(figsize=(18,5))\n",
    "        fig.suptitle(title, fontsize='14')\n",
    "\n",
    "        plot_name.scatter(axis_x, axis_y, color='g', marker='o', edgecolors='r')\n",
    "\n",
    "        plot_name.grid()\n",
    "        plot_name.set_xlabel(label_x)\n",
    "        plot_name.set_ylabel(label_y)\n",
    "        try:\n",
    "            if list(zoom_x):\n",
    "                plot_name.set_xlim(zoom_x)\n",
    "        except:\n",
    "            pass\n",
    "        try:\n",
    "            if list(zoom_y):\n",
    "                plot_name.set_ylim(zoom_y)\n",
    "        except:\n",
    "            pass\n",
    "        plot_name.legend(loc='best')\n",
    "        return plt.show()\n",
    "    \n",
    "    #Internal: It can be call by other method only.\n",
    "    def _bar_plot(self, axis_x, axis_y, title, label_x, label_y, zoom_x, zoom_y):\n",
    "        bar_xlabel = axis_x\n",
    "        bar_ylabel = axis_y\n",
    "        \n",
    "        fig, bar_plot_name = plt.subplots(figsize=(25,5))\n",
    "        fig.suptitle(title, fontsize='14')\n",
    "        \n",
    "        bar_plot_name.bar(bar_xlabel, bar_ylabel, align='center', alpha=0.5)\n",
    "        \n",
    "        bar_plot_name.grid()\n",
    "        bar_plot_name.set_xlabel(label_x)\n",
    "        bar_plot_name.set_ylabel(label_y)\n",
    "        try:\n",
    "            if list(zoom_x):\n",
    "                bar_plot_name.set_xlim(zoom_x)\n",
    "        except:\n",
    "            pass\n",
    "        try:\n",
    "            if list(zoom_y):\n",
    "                bar_plot_name.set_ylim(zoom_y)\n",
    "        except:\n",
    "            pass\n",
    "\n",
    "        return plt.show()\n",
    "    \n",
    "    #Internal: It can be call by other method only.\n",
    "    def _stackedbar_plot(self, pivot_table, title, label_x, label_y, zoom_x, zoom_y):\n",
    "        stkbar = pivot_table.plot(kind='bar', \n",
    "                              title=title, \n",
    "                              figsize=(25,8),\n",
    "                                  stacked=True\n",
    "                             )\n",
    "        \n",
    "        stkbar.grid()\n",
    "        stkbar.set_xlabel(label_x)\n",
    "        stkbar.set_ylabel(label_y)\n",
    "        stkbar.set_xticklabels(pivot_table['Month'])\n",
    "        stkbar.legend(loc='best')\n",
    "        try:\n",
    "            if list(zoom_x):\n",
    "                stkbar.set_xlim(zoom_x)\n",
    "        except:\n",
    "            pass\n",
    "        try:\n",
    "            if list(zoom_y):\n",
    "                stkbar.set_ylim(zoom_y)\n",
    "        except:\n",
    "            pass\n",
    "        return None\n",
    "    \n",
    "    #Internal: Determine whether a zoom value is valid or not\n",
    "    def _is_zoom(self, zoom_val):\n",
    "        if zoom_val[0] > 0 or zoom_val[1] > 0:\n",
    "            return zoom_val\n",
    "        else:\n",
    "            return False\n",
    "        \n",
    "    #Internal: Apply format to columns\n",
    "    def _put_format_rows(self, df, row, type_format):\n",
    "        if not isinstance(df, pd.DataFrame):\n",
    "            if type_format == 'money':\n",
    "                return '${:,.2f}'.format(row)\n",
    "            else:\n",
    "                return '%.2f' % row\n",
    "        else:\n",
    "            if type_format == 'money':\n",
    "                df[row] = df[row].map('${:,.2f}'.format)\n",
    "                return df[row]\n",
    "            else:\n",
    "                df[row] = df[row].map('{:,.2f}'.format)\n",
    "                return df[row]\n",
    "\n",
    "    #Reindex\n",
    "    def reindex_(self, df):\n",
    "        new_order = [2,11,10,9,3,5,4,8,1,0,7,6]\n",
    "        df = df.reindex(new_order)\n",
    "        return df\n",
    "    \n",
    "    #Parameters:\n",
    "    # *x_zoom (list): Zoom into x axis. Most have 2 values: [10,10]\n",
    "    # *y_zoom (list): Zoom into y axis. Most have 2 values: [25,55]\n",
    "    def supply_month(self, x_zoom, y_zoom):\n",
    "        supply_month_df = self.df.groupby('pythrs_month').id.count().reset_index()\n",
    "        supply_month_df = self.reindex_(supply_month_df)\n",
    "        supply_month_avg = supply_month_df.id.mean()\n",
    "        \n",
    "        print(f\"Average Advertising per month: {self._put_format_rows('0', supply_month_avg, 'money')}\")\n",
    "        return self._bar_plot(supply_month_df['pythrs_month'],\n",
    "                                  supply_month_df['id'],\n",
    "                                  'Listings per month',\n",
    "                                  'Month',\n",
    "                                  'Listings',\n",
    "                                  self._is_zoom(x_zoom),\n",
    "                                  self._is_zoom(y_zoom)\n",
    "                                 )\n",
    "    #Create DF of Room types and count each type.\n",
    "    def room_type(self, x_zoom, y_zoom):\n",
    "        #Los Angeles room by category (CHECK IF THERE MANY YEARS OF DATA)\n",
    "        room_type_df = self.df.groupby(['pythrs_month', 'room_type'])[\"id\"].count().reset_index()\n",
    "        room_type_df_pivot = room_type_df.pivot(index='pythrs_month', columns='room_type', values='id').reset_index()\n",
    "        room_type_df_pivot.rename(columns={'pythrs_month':'Month'}, inplace=True)\n",
    "        room_type_df_pivot = self.reindex_(room_type_df_pivot)    \n",
    "        return self._stackedbar_plot(room_type_df_pivot,\n",
    "                                'Monthly Availability per Room Type', \n",
    "                                'Month',\n",
    "                                'Room Type',\n",
    "                                     self._is_zoom(x_zoom),\n",
    "                                     self._is_zoom(y_zoom))\n",
    "        \n",
    "    #Calculate daily rate. Use 'price' column to do the math\n",
    "    def daily_rate(self, x_zoom, y_zoom):\n",
    "        #Average daily rate per month\n",
    "        daily_rate_df = self.df.groupby('pythrs_month').price.mean().reset_index()\n",
    "        daily_rate_df = self.reindex_(daily_rate_df)\n",
    "        daily_rate_mean = daily_rate_df.price.mean()\n",
    "              \n",
    "        print(f\"Average daily rate: {self._put_format_rows('0', daily_rate_mean, 'money')}\")\n",
    "        return self._bar_plot(daily_rate_df['pythrs_month'],\n",
    "                                  daily_rate_df['price'],\n",
    "                                  'Price per month',\n",
    "                                  'Month',\n",
    "                                  'Price (USD)',\n",
    "                                  self._is_zoom(x_zoom),\n",
    "                                  self._is_zoom(y_zoom)\n",
    "                                 )\n",
    "    \n",
    "    def bedrooms(self, x_zoom, y_zoom):\n",
    "        count_bedrooms = self.df.groupby('bedrooms')['room_type'].count().reset_index()\n",
    "        count_bedrooms = count_bedrooms[count_bedrooms['bedrooms'] < 7].reset_index()\n",
    "        del count_bedrooms['index']\n",
    "        count_bedrooms.columns = ['Bedrooms', '# of Properties']\n",
    "        count_bedrooms_output = count_bedrooms.copy()\n",
    "        count_bedrooms_output['# of Properties'] = self._put_format_rows(count_bedrooms_output, '# of Properties', 'float')\n",
    "        display(count_bedrooms_output)\n",
    "        return self._bar_plot(count_bedrooms['Bedrooms'],\n",
    "                              count_bedrooms['# of Properties'],\n",
    "                              'Bedrooms per propertie',\n",
    "                              'Bedrooms',\n",
    "                              '# of Properties',\n",
    "                              self._is_zoom(x_zoom),\n",
    "                              self._is_zoom(y_zoom)\n",
    "                             )\n",
    "    \n",
    "    def review_type_room(self, x_zoom, y_zoom):\n",
    "        rtr_dr = self.df.groupby('room_type').review_scores_rating.mean().reset_index()\n",
    "        display(rtr_dr)\n",
    "        return self._bar_plot(rtr_dr['room_type'], \n",
    "                               rtr_dr['review_scores_rating'], \n",
    "                               'Reviews per room type (%)', 'Room Type', 'Avg. Reviews', self._is_zoom(x_zoom),\n",
    "                              self._is_zoom(y_zoom))\n",
    "\n",
    "    def price_type_room(self, x_zoom, y_zoom):\n",
    "        ptr_dr = self.df.groupby('room_type').price.mean().reset_index()\n",
    "        ptr_dr.columns = ['Room Type', 'Price']\n",
    "              \n",
    "        ptr_dr_output = ptr_dr.copy()\n",
    "        ptr_dr_output['Price'] = self._put_format_rows(ptr_dr_output, 'Price', 'money')\n",
    "        display(ptr_dr_output)      \n",
    "        return self._bar_plot(ptr_dr['Room Type'], \n",
    "                               ptr_dr['Price'], \n",
    "                               'Price per room type (%)', 'Room Type', 'Avg. Price', self._is_zoom(x_zoom),\n",
    "                              self._is_zoom(y_zoom))\n",
    "    \n",
    "    def neighborhood(self, x_zoom, y_zoom, type_):\n",
    "        if type_ == 'p':\n",
    "            type_lookup = 'price'\n",
    "            type_ylabel = 'Price'\n",
    "            type_title = 'Avg. price per neighborhood'\n",
    "        else:\n",
    "            return f\"Type {type_} doesn't exist. (p)rice and (r)eviews score rating accepted only\"\n",
    "        \n",
    "        neig_100 = self.df.groupby('neighbourhood').agg({type_lookup: ['count', 'mean']}).reset_index()\n",
    "        neig_100.columns = neig_100.columns.droplevel(0)\n",
    "        neig_100.columns = ['Neighbourhood', 'Properties', type_ylabel]\n",
    "        neig_100 = neig_100[(neig_100['Properties'] > 100)].sort_values(type_ylabel, ascending=False).head(10).reset_index()\n",
    "        del neig_100['index']\n",
    "              \n",
    "        neig_100_output = neig_100.copy()\n",
    "        neig_100_output['Properties'] = self._put_format_rows(neig_100_output, 'Properties', 'float')\n",
    "        neig_100_output[type_ylabel] = self._put_format_rows(neig_100_output, type_ylabel, 'money')\n",
    "        display(neig_100_output)\n",
    "              \n",
    "        #print(neig_100)\n",
    "        return self._bar_plot(neig_100['Neighbourhood'],\n",
    "                              neig_100[type_ylabel],\n",
    "                              type_title,\n",
    "                              'Neighborhood', type_ylabel,\n",
    "                              self._is_zoom(x_zoom),\n",
    "                              self._is_zoom(y_zoom))\n",
    "    def p_value_test(self):\n",
    "        # T-test to know if there is a significance difference between the avg prices of all listings and the neighbourhoods with highest avg prices\n",
    "        neigh_list = []\n",
    "        neigh_city = ['Malibu', 'Bel Air/Beverly Crest', 'Laurel Canyon', 'Beverly Hills', 'Pacific Palisades',\n",
    "             'Palos Verdes', 'Encino', 'Hollywood Hills', 'Manhattan Beach', 'Cahuenga Pass']\n",
    "        \n",
    "        neigh_statistic = []\n",
    "        neigh_pvalue = []\n",
    "        \n",
    "        for _ in neigh_city:\n",
    "            nc = self.df[(self.df[\"neighbourhood\"]== _ )][\"price\"]\n",
    "            np = self.df[(self.df[\"price\"]>=0)][\"price\"]\n",
    "            t_test = stats.ttest_ind(nc, np,equal_var=False)\n",
    "            neigh_statistic.append(t_test.statistic)\n",
    "            neigh_pvalue.append(t_test.pvalue)\n",
    "\n",
    "            neigh_list = list(zip(neigh_city, neigh_statistic, neigh_pvalue))\n",
    "            neigh_df = pd.DataFrame(neigh_list, columns = ['City', 'Statistic', 'p-value'])\n",
    "        #print(neigh_df)\n",
    "        return neigh_df\n",
    "    \n",
    "    def amenities(self):\n",
    "        amenities_list = []\n",
    "        amenities_items = ['TV', 'Cable TV', 'Wifi', 'Air conditioning', 'Internet', 'Gym', 'Kitchen', 'Washer', \n",
    "                   'Hot tub', 'Free street parking', 'Heating', 'Pool', 'Free parking on premises']\n",
    "\n",
    "        amenities_coefficient = []\n",
    "        amenities_r2 = []\n",
    "        amenities_p_value = []\n",
    "        amenities_error_std = []\n",
    "\n",
    "        for _ in amenities_items:\n",
    "            ai = self.df[(self.df[\"price\"]>=0)][_]\n",
    "            ap = self.df[(self.df[\"price\"]>=0)]['price']\n",
    "            #amenitie_test_slope, amenitie_test_int, amenitie_test_r, amenitie_test_p, amenitie_test_std_err = stats.linregress(self.df[(self.df[\"price\"]>=0)][_], self.df[(self.df[\"price\"]>=0)][\"price\"])\n",
    "            amenitie_test_slope, amenitie_test_int, amenitie_test_r, amenitie_test_p, amenitie_test_std_err = stats.linregress(ai, ap)\n",
    "            amenities_coefficient.append(amenitie_test_slope)\n",
    "            amenities_r2.append((amenitie_test_r*amenitie_test_r)*100)\n",
    "            amenities_p_value.append(amenitie_test_p)\n",
    "            amenities_error_std.append(amenitie_test_std_err)\n",
    "\n",
    "        amenities_list = list(zip(amenities_items, amenities_coefficient, amenities_r2, amenities_p_value, \n",
    "                                  amenities_error_std))\n",
    "\n",
    "        amenities_df = pd.DataFrame(amenities_list, columns=(['Item', 'Coefficient', 'R2', 'p-value', 'Std Error']))\n",
    "        amenities_df = amenities_df.sort_values('R2', ascending=False)\n",
    "        return amenities_df\n",
    "    \n",
    "    def reviews(self):\n",
    "        rr = AIRBNB_DT[(AIRBNB_DT[\"review_scores_rating\"]>=0)][\"review_scores_rating\"]\n",
    "        rp = AIRBNB_DT[(AIRBNB_DT[\"review_scores_rating\"]>=0)][\"price\"]\n",
    "        review_slope, review_int, review_r, review_p, review_std_err = stats.linregress(rr, rp)\n",
    "        reg_review_df = pd.DataFrame([[review_slope, (review_r*review_r)*100, review_p, review_std_err]],\n",
    "                                    columns = (['Coefficent', 'R2', 'p-value', 'Std error']))\n",
    "        return reg_review_df\n",
    "    \n",
    "    def price_night(self, x_zoom, y_zoom):\n",
    "        usd_rate_df = self.df[['pythrs_month', 'price', 'minimum_nights']]\n",
    "        usd_rate_df['pythrs_pricexnight'] = usd_rate_df['price'] * (usd_rate_df['minimum_nights'] <= 30)\n",
    "        usd_rate_df = usd_rate_df.groupby('pythrs_month').pythrs_pricexnight.sum().reset_index()\n",
    "        usd_rate_df.columns = ['Months', 'Estimated revenue']\n",
    "        usd_rate_df = self.reindex_(usd_rate_df)\n",
    "       #print(usd_rate_df)\n",
    "        return self._bar_plot(usd_rate_df['Months'],\n",
    "                              usd_rate_df['Estimated revenue'],\n",
    "                              'Estimated revenue per month',\n",
    "                              'Month', 'Revenue (USD)',\n",
    "                              self._is_zoom(x_zoom),\n",
    "                              self._is_zoom(y_zoom))\n",
    "    \n",
    "    def bins_nights(self):\n",
    "        bins_df = self.df[self.df['pythrs_month']!='Julyx 2019']\n",
    "        #print(bins_df.pythrs_month.unique)\n",
    "        bins_df = bins_df[['pythrs_month', 'minimum_nights']]\n",
    "        bin_ = [0, 30, 90, 91]\n",
    "        bin_label = ['30 days', '90 days', 'More than 90 days']\n",
    "        bins_df['pythrs_bins'] = pd.cut(bins_df['minimum_nights'], bin_, labels=bin_label)\n",
    "        bins_min_nights_mean = bins_df[bins_df['pythrs_bins'] == '30 days'].minimum_nights.mean()\n",
    "              \n",
    "        print(f\"Minimum nights: {self._put_format_rows('0', bins_min_nights_mean, 'float')}\")\n",
    "              \n",
    "        bins_df = bins_df.groupby(['pythrs_bins']).count().reset_index()\n",
    "        del bins_df['pythrs_month']\n",
    "        bins_df.columns = ['Minimum nights', '# of listing']\n",
    "        bins_df['# of listing'] = self._put_format_rows(bins_df, '# of listing', 'float')\n",
    "        return bins_df\n",
    "\n",
    "    def correlation(self):\n",
    "        corr_df = AIRBNB_DT[['review_scores_rating',\n",
    "                         'review_scores_accuracy',\n",
    "                         'review_scores_cleanliness',\n",
    "                         'review_scores_checkin',\n",
    "                         'review_scores_communication',\n",
    "                         'review_scores_location',\n",
    "                         'review_scores_value']]\n",
    "        corr_df.columns = ['Rating',\n",
    "                           'Accuracy',\n",
    "                           'Cleanliness',\n",
    "                           'Checkin',\n",
    "                           'Communication',\n",
    "                           'Location',\n",
    "                           'Value']\n",
    "        \n",
    "        fig = plt.figure(figsize=(10, 8))\n",
    "        ax = fig.add_subplot(111)\n",
    "        cax = ax.matshow(corr_df.corr(), interpolation='nearest')\n",
    "        fig.colorbar(cax)\n",
    "        \n",
    "        plt.xticks(range(corr_df.shape[1]), corr_df.columns, fontsize=14, rotation=90)\n",
    "        plt.yticks(range(corr_df.shape[1]), corr_df.columns, fontsize=14)\n",
    "        \n",
    "        plt.show()\n",
    "    \n",
    "    def room_type_t_test(self):\n",
    "        rt_list = []\n",
    "        rt_type = ['Entire home/apt - Private room', 'Private room - Shared room']\n",
    "\n",
    "        rt_statistic = []\n",
    "        rt_pvalue = []\n",
    "\n",
    "        entire_private_dif=stats.ttest_ind(self.df[(self.df[\"room_type\"]==\"Entire home/apt\")][\"price\"], self.df[(self.df[\"room_type\"]==\"Private room\")][\"price\"],equal_var=False)\n",
    "        private_shared_dif=stats.ttest_ind(self.df[(self.df[\"room_type\"]==\"Private room\")][\"price\"], self.df[(self.df[\"room_type\"]==\"Shared room\")][\"price\"],equal_var=False)\n",
    "\n",
    "        rt_statistic.append(entire_private_dif.statistic)\n",
    "        rt_pvalue.append(entire_private_dif.pvalue)\n",
    "        rt_statistic.append(private_shared_dif.statistic)\n",
    "        rt_pvalue.append(private_shared_dif.pvalue)\n",
    "\n",
    "        rt_list = list(zip(rt_type, rt_statistic, rt_pvalue))\n",
    "        rt_df = pd.DataFrame(rt_list, columns = ['Room Type', 'Statistic', 'p-value'])\n",
    "\n",
    "        return rt_df\n",
    "    "
   ]
  },
  {
   "cell_type": "markdown",
   "metadata": {},
   "source": [
    "# Loading data from april 2018 to may 2019 "
   ]
  },
  {
   "cell_type": "code",
   "execution_count": 3,
   "metadata": {},
   "outputs": [
    {
     "name": "stdout",
     "output_type": "stream",
     "text": [
      "CA loaded and ready to analyze:\n"
     ]
    },
    {
     "data": {
      "text/html": [
       "<div>\n",
       "<style scoped>\n",
       "    .dataframe tbody tr th:only-of-type {\n",
       "        vertical-align: middle;\n",
       "    }\n",
       "\n",
       "    .dataframe tbody tr th {\n",
       "        vertical-align: top;\n",
       "    }\n",
       "\n",
       "    .dataframe thead th {\n",
       "        text-align: right;\n",
       "    }\n",
       "</style>\n",
       "<table border=\"1\" class=\"dataframe\">\n",
       "  <thead>\n",
       "    <tr style=\"text-align: right;\">\n",
       "      <th></th>\n",
       "      <th>Months</th>\n",
       "      <th>Rows</th>\n",
       "    </tr>\n",
       "  </thead>\n",
       "  <tbody>\n",
       "    <tr>\n",
       "      <th>2</th>\n",
       "      <td>August 2018</td>\n",
       "      <td>42,316.00</td>\n",
       "    </tr>\n",
       "    <tr>\n",
       "      <th>11</th>\n",
       "      <td>September 2018</td>\n",
       "      <td>43,178.00</td>\n",
       "    </tr>\n",
       "    <tr>\n",
       "      <th>10</th>\n",
       "      <td>October 2018</td>\n",
       "      <td>43,730.00</td>\n",
       "    </tr>\n",
       "    <tr>\n",
       "      <th>9</th>\n",
       "      <td>November 2018</td>\n",
       "      <td>44,463.00</td>\n",
       "    </tr>\n",
       "    <tr>\n",
       "      <th>3</th>\n",
       "      <td>December 2018</td>\n",
       "      <td>43,000.00</td>\n",
       "    </tr>\n",
       "    <tr>\n",
       "      <th>5</th>\n",
       "      <td>January 2019</td>\n",
       "      <td>43,335.00</td>\n",
       "    </tr>\n",
       "    <tr>\n",
       "      <th>4</th>\n",
       "      <td>February 2019</td>\n",
       "      <td>43,661.00</td>\n",
       "    </tr>\n",
       "    <tr>\n",
       "      <th>8</th>\n",
       "      <td>March 2019</td>\n",
       "      <td>43,130.00</td>\n",
       "    </tr>\n",
       "    <tr>\n",
       "      <th>1</th>\n",
       "      <td>April 2019</td>\n",
       "      <td>43,374.00</td>\n",
       "    </tr>\n",
       "    <tr>\n",
       "      <th>0</th>\n",
       "      <td>May 2019</td>\n",
       "      <td>43,894.00</td>\n",
       "    </tr>\n",
       "    <tr>\n",
       "      <th>7</th>\n",
       "      <td>June 2019</td>\n",
       "      <td>44,477.00</td>\n",
       "    </tr>\n",
       "    <tr>\n",
       "      <th>6</th>\n",
       "      <td>July 2019</td>\n",
       "      <td>44,570.00</td>\n",
       "    </tr>\n",
       "  </tbody>\n",
       "</table>\n",
       "</div>"
      ],
      "text/plain": [
       "            Months       Rows\n",
       "2      August 2018  42,316.00\n",
       "11  September 2018  43,178.00\n",
       "10    October 2018  43,730.00\n",
       "9    November 2018  44,463.00\n",
       "3    December 2018  43,000.00\n",
       "5     January 2019  43,335.00\n",
       "4    February 2019  43,661.00\n",
       "8       March 2019  43,130.00\n",
       "1       April 2019  43,374.00\n",
       "0        May 2019   43,894.00\n",
       "7        June 2019  44,477.00\n",
       "6        July 2019  44,570.00"
      ]
     },
     "metadata": {},
     "output_type": "display_data"
    }
   ],
   "source": [
    "city = Airbnb('CA')"
   ]
  },
  {
   "cell_type": "markdown",
   "metadata": {},
   "source": [
    "## Monthly supply"
   ]
  },
  {
   "cell_type": "code",
   "execution_count": 4,
   "metadata": {},
   "outputs": [
    {
     "name": "stdout",
     "output_type": "stream",
     "text": [
      "Average Advertising per month: $43,594.00\n"
     ]
    },
    {
     "data": {
      "image/png": "[encoded data removed]",
      "text/plain": [
       "<Figure size 1800x360 with 1 Axes>"
      ]
     },
     "metadata": {
      "needs_background": "light"
     },
     "output_type": "display_data"
    }
   ],
   "source": [
    "city.supply_month([0,0],[30000,50000])"
   ]
  },
  {
   "cell_type": "markdown",
   "metadata": {},
   "source": [
    "* Seasons were Airbnb increases are the following months: September, October and November, as well in April, May and June."
   ]
  },
  {
   "cell_type": "markdown",
   "metadata": {},
   "source": [
    "## Daily price per month (Avg.) USD\n",
    "Period of the year to maximise revenue"
   ]
  },
  {
   "cell_type": "code",
   "execution_count": 5,
   "metadata": {},
   "outputs": [
    {
     "name": "stdout",
     "output_type": "stream",
     "text": [
      "Average daily rate: $198.97\n"
     ]
    },
    {
     "data": {
      "image/png": "[encoded data removed]",
      "text/plain": [
       "<Figure size 1800x360 with 1 Axes>"
      ]
     },
     "metadata": {
      "needs_background": "light"
     },
     "output_type": "display_data"
    }
   ],
   "source": [
    "city.daily_rate([0,0],[100,250])\n",
    "#Gráfica ordenada por mes"
   ]
  },
  {
   "cell_type": "markdown",
   "metadata": {},
   "source": [
    "* April , May, and June  are the best periods to maximize revenue. "
   ]
  },
  {
   "cell_type": "markdown",
   "metadata": {},
   "source": [
    "# Total estimated revenue of bookings for 30 days or less (USD)\n",
    "\n",
    "How big is the Airbnb LA market?"
   ]
  },
  {
   "cell_type": "code",
   "execution_count": 6,
   "metadata": {},
   "outputs": [
    {
     "data": {
      "image/png": "[encoded data removed]",
      "text/plain": [
       "<Figure size 1800x360 with 1 Axes>"
      ]
     },
     "metadata": {
      "needs_background": "light"
     },
     "output_type": "display_data"
    }
   ],
   "source": [
    "city.price_night([0,0],[0,0])"
   ]
  },
  {
   "cell_type": "markdown",
   "metadata": {},
   "source": [
    "* The market has a value per month around 8 million USD. \n"
   ]
  },
  {
   "cell_type": "markdown",
   "metadata": {},
   "source": [
    "## Minimum nights*\n",
    "How long does the hosts prefer to list their porperties?"
   ]
  },
  {
   "cell_type": "code",
   "execution_count": 7,
   "metadata": {},
   "outputs": [
    {
     "name": "stdout",
     "output_type": "stream",
     "text": [
      "Minimum nights: 3.70\n"
     ]
    },
    {
     "data": {
      "text/html": [
       "<div>\n",
       "<style scoped>\n",
       "    .dataframe tbody tr th:only-of-type {\n",
       "        vertical-align: middle;\n",
       "    }\n",
       "\n",
       "    .dataframe tbody tr th {\n",
       "        vertical-align: top;\n",
       "    }\n",
       "\n",
       "    .dataframe thead th {\n",
       "        text-align: right;\n",
       "    }\n",
       "</style>\n",
       "<table border=\"1\" class=\"dataframe\">\n",
       "  <thead>\n",
       "    <tr style=\"text-align: right;\">\n",
       "      <th></th>\n",
       "      <th>Minimum nights</th>\n",
       "      <th># of listing</th>\n",
       "    </tr>\n",
       "  </thead>\n",
       "  <tbody>\n",
       "    <tr>\n",
       "      <th>0</th>\n",
       "      <td>30 days</td>\n",
       "      <td>509,392.00</td>\n",
       "    </tr>\n",
       "    <tr>\n",
       "      <th>1</th>\n",
       "      <td>90 days</td>\n",
       "      <td>11,471.00</td>\n",
       "    </tr>\n",
       "    <tr>\n",
       "      <th>2</th>\n",
       "      <td>More than 90 days</td>\n",
       "      <td>19.00</td>\n",
       "    </tr>\n",
       "  </tbody>\n",
       "</table>\n",
       "</div>"
      ],
      "text/plain": [
       "      Minimum nights # of listing\n",
       "0            30 days   509,392.00\n",
       "1            90 days    11,471.00\n",
       "2  More than 90 days        19.00"
      ]
     },
     "execution_count": 7,
     "metadata": {},
     "output_type": "execute_result"
    }
   ],
   "source": [
    "city.bins_nights()"
   ]
  },
  {
   "cell_type": "markdown",
   "metadata": {},
   "source": [
    "LA hosts prefer to rent in average 3 nights, representing 97% of the listings, longer trends are marginal"
   ]
  },
  {
   "cell_type": "markdown",
   "metadata": {},
   "source": [
    "# Minimum nights and estimated revenue are correlated?"
   ]
  },
  {
   "cell_type": "code",
   "execution_count": 8,
   "metadata": {},
   "outputs": [],
   "source": [
    "# Estimated revenue\n",
    "estimated_revenue =  AIRBNB_DT\n",
    "estimated_revenue['Estimated_revenue'] = AIRBNB_DT['price'] * AIRBNB_DT['minimum_nights']"
   ]
  },
  {
   "cell_type": "code",
   "execution_count": 9,
   "metadata": {},
   "outputs": [
    {
     "data": {
      "text/plain": [
       "0.33477498861420707"
      ]
     },
     "execution_count": 9,
     "metadata": {},
     "output_type": "execute_result"
    }
   ],
   "source": [
    "estimated_revenue['Estimated_revenue'].corr(estimated_revenue['minimum_nights'])"
   ]
  },
  {
   "cell_type": "markdown",
   "metadata": {},
   "source": [
    "Minimum nights and estimated revenue are 33% correlated with each other."
   ]
  },
  {
   "cell_type": "markdown",
   "metadata": {},
   "source": [
    "## Room Type list"
   ]
  },
  {
   "cell_type": "code",
   "execution_count": 10,
   "metadata": {
    "scrolled": true
   },
   "outputs": [
    {
     "data": {
      "image/png": "[encoded data removed]",
      "text/plain": [
       "<Figure size 1800x576 with 1 Axes>"
      ]
     },
     "metadata": {
      "needs_background": "light"
     },
     "output_type": "display_data"
    }
   ],
   "source": [
    "city.room_type([0,0],[10000,50000])"
   ]
  },
  {
   "cell_type": "markdown",
   "metadata": {},
   "source": [
    "* LA hosts prefer to rent full houses/apartments, single rooms have a declining trend"
   ]
  },
  {
   "cell_type": "markdown",
   "metadata": {},
   "source": [
    "## Bedrooms per propertie"
   ]
  },
  {
   "cell_type": "code",
   "execution_count": 11,
   "metadata": {},
   "outputs": [
    {
     "data": {
      "text/html": [
       "<div>\n",
       "<style scoped>\n",
       "    .dataframe tbody tr th:only-of-type {\n",
       "        vertical-align: middle;\n",
       "    }\n",
       "\n",
       "    .dataframe tbody tr th {\n",
       "        vertical-align: top;\n",
       "    }\n",
       "\n",
       "    .dataframe thead th {\n",
       "        text-align: right;\n",
       "    }\n",
       "</style>\n",
       "<table border=\"1\" class=\"dataframe\">\n",
       "  <thead>\n",
       "    <tr style=\"text-align: right;\">\n",
       "      <th></th>\n",
       "      <th>Bedrooms</th>\n",
       "      <th># of Properties</th>\n",
       "    </tr>\n",
       "  </thead>\n",
       "  <tbody>\n",
       "    <tr>\n",
       "      <th>0</th>\n",
       "      <td>0.0</td>\n",
       "      <td>56,372.00</td>\n",
       "    </tr>\n",
       "    <tr>\n",
       "      <th>1</th>\n",
       "      <td>1.0</td>\n",
       "      <td>307,432.00</td>\n",
       "    </tr>\n",
       "    <tr>\n",
       "      <th>2</th>\n",
       "      <td>2.0</td>\n",
       "      <td>91,921.00</td>\n",
       "    </tr>\n",
       "    <tr>\n",
       "      <th>3</th>\n",
       "      <td>3.0</td>\n",
       "      <td>39,735.00</td>\n",
       "    </tr>\n",
       "    <tr>\n",
       "      <th>4</th>\n",
       "      <td>4.0</td>\n",
       "      <td>16,541.00</td>\n",
       "    </tr>\n",
       "    <tr>\n",
       "      <th>5</th>\n",
       "      <td>5.0</td>\n",
       "      <td>7,099.00</td>\n",
       "    </tr>\n",
       "    <tr>\n",
       "      <th>6</th>\n",
       "      <td>6.0</td>\n",
       "      <td>2,151.00</td>\n",
       "    </tr>\n",
       "  </tbody>\n",
       "</table>\n",
       "</div>"
      ],
      "text/plain": [
       "   Bedrooms # of Properties\n",
       "0       0.0       56,372.00\n",
       "1       1.0      307,432.00\n",
       "2       2.0       91,921.00\n",
       "3       3.0       39,735.00\n",
       "4       4.0       16,541.00\n",
       "5       5.0        7,099.00\n",
       "6       6.0        2,151.00"
      ]
     },
     "metadata": {},
     "output_type": "display_data"
    },
    {
     "data": {
      "image/png": "[encoded data removed]",
      "text/plain": [
       "<Figure size 1800x360 with 1 Axes>"
      ]
     },
     "metadata": {
      "needs_background": "light"
     },
     "output_type": "display_data"
    }
   ],
   "source": [
    "city.bedrooms([0,0],[0,0])"
   ]
  },
  {
   "cell_type": "markdown",
   "metadata": {},
   "source": [
    "* Renting a place with one or 2 bedrooms seems to give the host good rentals."
   ]
  },
  {
   "cell_type": "markdown",
   "metadata": {},
   "source": [
    "# If you want to take advantage of this new industry and translate it into a business opportunity. What are the key factors you should take into account?\n",
    "### Let's check!"
   ]
  },
  {
   "cell_type": "markdown",
   "metadata": {},
   "source": [
    "## Avg price per room type\n",
    "* First, let's see which are the room types that are rented for a higher price. "
   ]
  },
  {
   "cell_type": "code",
   "execution_count": 12,
   "metadata": {},
   "outputs": [
    {
     "data": {
      "text/html": [
       "<div>\n",
       "<style scoped>\n",
       "    .dataframe tbody tr th:only-of-type {\n",
       "        vertical-align: middle;\n",
       "    }\n",
       "\n",
       "    .dataframe tbody tr th {\n",
       "        vertical-align: top;\n",
       "    }\n",
       "\n",
       "    .dataframe thead th {\n",
       "        text-align: right;\n",
       "    }\n",
       "</style>\n",
       "<table border=\"1\" class=\"dataframe\">\n",
       "  <thead>\n",
       "    <tr style=\"text-align: right;\">\n",
       "      <th></th>\n",
       "      <th>Room Type</th>\n",
       "      <th>Price</th>\n",
       "    </tr>\n",
       "  </thead>\n",
       "  <tbody>\n",
       "    <tr>\n",
       "      <th>0</th>\n",
       "      <td>Entire home/apt</td>\n",
       "      <td>$269.87</td>\n",
       "    </tr>\n",
       "    <tr>\n",
       "      <th>1</th>\n",
       "      <td>Private room</td>\n",
       "      <td>$86.00</td>\n",
       "    </tr>\n",
       "    <tr>\n",
       "      <th>2</th>\n",
       "      <td>Shared room</td>\n",
       "      <td>$51.82</td>\n",
       "    </tr>\n",
       "  </tbody>\n",
       "</table>\n",
       "</div>"
      ],
      "text/plain": [
       "         Room Type    Price\n",
       "0  Entire home/apt  $269.87\n",
       "1     Private room   $86.00\n",
       "2      Shared room   $51.82"
      ]
     },
     "metadata": {},
     "output_type": "display_data"
    },
    {
     "data": {
      "image/png": "[encoded data removed]",
      "text/plain": [
       "<Figure size 1800x360 with 1 Axes>"
      ]
     },
     "metadata": {
      "needs_background": "light"
     },
     "output_type": "display_data"
    }
   ],
   "source": [
    "city.price_type_room([0,0],[0,350])"
   ]
  },
  {
   "cell_type": "markdown",
   "metadata": {},
   "source": [
    "Like one might imagine, Entire home/apt are the most expensive airbnb, followed by the private rooms and at the end, shared bedrooms. Just to be sure there's a consistent and significant difference between the prices of each room type, let's do a t-test."
   ]
  },
  {
   "cell_type": "code",
   "execution_count": 13,
   "metadata": {},
   "outputs": [
    {
     "data": {
      "text/html": [
       "<div>\n",
       "<style scoped>\n",
       "    .dataframe tbody tr th:only-of-type {\n",
       "        vertical-align: middle;\n",
       "    }\n",
       "\n",
       "    .dataframe tbody tr th {\n",
       "        vertical-align: top;\n",
       "    }\n",
       "\n",
       "    .dataframe thead th {\n",
       "        text-align: right;\n",
       "    }\n",
       "</style>\n",
       "<table border=\"1\" class=\"dataframe\">\n",
       "  <thead>\n",
       "    <tr style=\"text-align: right;\">\n",
       "      <th></th>\n",
       "      <th>Room Type</th>\n",
       "      <th>Statistic</th>\n",
       "      <th>p-value</th>\n",
       "    </tr>\n",
       "  </thead>\n",
       "  <tbody>\n",
       "    <tr>\n",
       "      <th>0</th>\n",
       "      <td>Entire home/apt - Private room</td>\n",
       "      <td>152.765805</td>\n",
       "      <td>0.000000e+00</td>\n",
       "    </tr>\n",
       "    <tr>\n",
       "      <th>1</th>\n",
       "      <td>Private room - Shared room</td>\n",
       "      <td>19.607864</td>\n",
       "      <td>4.947830e-85</td>\n",
       "    </tr>\n",
       "  </tbody>\n",
       "</table>\n",
       "</div>"
      ],
      "text/plain": [
       "                        Room Type   Statistic       p-value\n",
       "0  Entire home/apt - Private room  152.765805  0.000000e+00\n",
       "1      Private room - Shared room   19.607864  4.947830e-85"
      ]
     },
     "execution_count": 13,
     "metadata": {},
     "output_type": "execute_result"
    }
   ],
   "source": [
    "city.room_type_t_test()"
   ]
  },
  {
   "cell_type": "markdown",
   "metadata": {},
   "source": [
    "High t-stat and low p-value. We're safe, there's a significance difference between the Entire home/apt price and the private and shared bedrooms.\n",
    "\n",
    "Then you might ask, which part of town is where high prices are observed?"
   ]
  },
  {
   "cell_type": "markdown",
   "metadata": {},
   "source": [
    "## Average price per neighborhood (Top 10 - USD)"
   ]
  },
  {
   "cell_type": "code",
   "execution_count": 14,
   "metadata": {},
   "outputs": [
    {
     "data": {
      "text/html": [
       "<div>\n",
       "<style scoped>\n",
       "    .dataframe tbody tr th:only-of-type {\n",
       "        vertical-align: middle;\n",
       "    }\n",
       "\n",
       "    .dataframe tbody tr th {\n",
       "        vertical-align: top;\n",
       "    }\n",
       "\n",
       "    .dataframe thead th {\n",
       "        text-align: right;\n",
       "    }\n",
       "</style>\n",
       "<table border=\"1\" class=\"dataframe\">\n",
       "  <thead>\n",
       "    <tr style=\"text-align: right;\">\n",
       "      <th></th>\n",
       "      <th>Neighbourhood</th>\n",
       "      <th>Properties</th>\n",
       "      <th>Price</th>\n",
       "    </tr>\n",
       "  </thead>\n",
       "  <tbody>\n",
       "    <tr>\n",
       "      <th>0</th>\n",
       "      <td>Malibu</td>\n",
       "      <td>4,638.00</td>\n",
       "      <td>$1,306.67</td>\n",
       "    </tr>\n",
       "    <tr>\n",
       "      <th>1</th>\n",
       "      <td>Bel Air/Beverly Crest</td>\n",
       "      <td>5,100.00</td>\n",
       "      <td>$1,270.11</td>\n",
       "    </tr>\n",
       "    <tr>\n",
       "      <th>2</th>\n",
       "      <td>Laurel Canyon</td>\n",
       "      <td>3,476.00</td>\n",
       "      <td>$839.11</td>\n",
       "    </tr>\n",
       "    <tr>\n",
       "      <th>3</th>\n",
       "      <td>Beverly Hills</td>\n",
       "      <td>6,917.00</td>\n",
       "      <td>$597.20</td>\n",
       "    </tr>\n",
       "    <tr>\n",
       "      <th>4</th>\n",
       "      <td>Pacific Palisades</td>\n",
       "      <td>2,866.00</td>\n",
       "      <td>$445.05</td>\n",
       "    </tr>\n",
       "    <tr>\n",
       "      <th>5</th>\n",
       "      <td>Palos Verdes</td>\n",
       "      <td>208.00</td>\n",
       "      <td>$426.13</td>\n",
       "    </tr>\n",
       "    <tr>\n",
       "      <th>6</th>\n",
       "      <td>Encino</td>\n",
       "      <td>2,407.00</td>\n",
       "      <td>$392.80</td>\n",
       "    </tr>\n",
       "    <tr>\n",
       "      <th>7</th>\n",
       "      <td>Hollywood Hills</td>\n",
       "      <td>9,711.00</td>\n",
       "      <td>$366.72</td>\n",
       "    </tr>\n",
       "    <tr>\n",
       "      <th>8</th>\n",
       "      <td>Manhattan Beach</td>\n",
       "      <td>2,783.00</td>\n",
       "      <td>$337.47</td>\n",
       "    </tr>\n",
       "    <tr>\n",
       "      <th>9</th>\n",
       "      <td>Cahuenga Pass</td>\n",
       "      <td>2,086.00</td>\n",
       "      <td>$318.35</td>\n",
       "    </tr>\n",
       "  </tbody>\n",
       "</table>\n",
       "</div>"
      ],
      "text/plain": [
       "           Neighbourhood Properties      Price\n",
       "0                 Malibu   4,638.00  $1,306.67\n",
       "1  Bel Air/Beverly Crest   5,100.00  $1,270.11\n",
       "2          Laurel Canyon   3,476.00    $839.11\n",
       "3          Beverly Hills   6,917.00    $597.20\n",
       "4      Pacific Palisades   2,866.00    $445.05\n",
       "5           Palos Verdes     208.00    $426.13\n",
       "6                 Encino   2,407.00    $392.80\n",
       "7        Hollywood Hills   9,711.00    $366.72\n",
       "8        Manhattan Beach   2,783.00    $337.47\n",
       "9          Cahuenga Pass   2,086.00    $318.35"
      ]
     },
     "metadata": {},
     "output_type": "display_data"
    },
    {
     "data": {
      "image/png": "[encoded data removed]",
      "text/plain": [
       "<Figure size 1800x360 with 1 Axes>"
      ]
     },
     "metadata": {
      "needs_background": "light"
     },
     "output_type": "display_data"
    }
   ],
   "source": [
    "#Los Angeles average price per neighborhood (to get the top 5 best neighborhoods)\n",
    "city.neighborhood([0,0],[0,0],'p')"
   ]
  },
  {
   "cell_type": "markdown",
   "metadata": {},
   "source": [
    "* These are the neighbourhoods that have the highest Avg. price and the prices for each of these neighbourhoods are significantly higher than the average price for all Airbnb listings."
   ]
  },
  {
   "cell_type": "markdown",
   "metadata": {},
   "source": [
    "### Are these prices consistently higher than the average?"
   ]
  },
  {
   "cell_type": "code",
   "execution_count": 15,
   "metadata": {},
   "outputs": [
    {
     "data": {
      "text/html": [
       "<div>\n",
       "<style scoped>\n",
       "    .dataframe tbody tr th:only-of-type {\n",
       "        vertical-align: middle;\n",
       "    }\n",
       "\n",
       "    .dataframe tbody tr th {\n",
       "        vertical-align: top;\n",
       "    }\n",
       "\n",
       "    .dataframe thead th {\n",
       "        text-align: right;\n",
       "    }\n",
       "</style>\n",
       "<table border=\"1\" class=\"dataframe\">\n",
       "  <thead>\n",
       "    <tr style=\"text-align: right;\">\n",
       "      <th></th>\n",
       "      <th>City</th>\n",
       "      <th>Statistic</th>\n",
       "      <th>p-value</th>\n",
       "    </tr>\n",
       "  </thead>\n",
       "  <tbody>\n",
       "    <tr>\n",
       "      <th>0</th>\n",
       "      <td>Malibu</td>\n",
       "      <td>38.755689</td>\n",
       "      <td>6.246721e-285</td>\n",
       "    </tr>\n",
       "    <tr>\n",
       "      <th>1</th>\n",
       "      <td>Bel Air/Beverly Crest</td>\n",
       "      <td>36.171455</td>\n",
       "      <td>2.913160e-255</td>\n",
       "    </tr>\n",
       "    <tr>\n",
       "      <th>2</th>\n",
       "      <td>Laurel Canyon</td>\n",
       "      <td>20.541878</td>\n",
       "      <td>1.346300e-88</td>\n",
       "    </tr>\n",
       "    <tr>\n",
       "      <th>3</th>\n",
       "      <td>Beverly Hills</td>\n",
       "      <td>21.981779</td>\n",
       "      <td>1.384482e-103</td>\n",
       "    </tr>\n",
       "    <tr>\n",
       "      <th>4</th>\n",
       "      <td>Pacific Palisades</td>\n",
       "      <td>20.644617</td>\n",
       "      <td>1.980607e-88</td>\n",
       "    </tr>\n",
       "    <tr>\n",
       "      <th>5</th>\n",
       "      <td>Palos Verdes</td>\n",
       "      <td>7.318458</td>\n",
       "      <td>5.427359e-12</td>\n",
       "    </tr>\n",
       "    <tr>\n",
       "      <th>6</th>\n",
       "      <td>Encino</td>\n",
       "      <td>10.768200</td>\n",
       "      <td>1.920092e-26</td>\n",
       "    </tr>\n",
       "    <tr>\n",
       "      <th>7</th>\n",
       "      <td>Hollywood Hills</td>\n",
       "      <td>24.960607</td>\n",
       "      <td>2.007628e-133</td>\n",
       "    </tr>\n",
       "    <tr>\n",
       "      <th>8</th>\n",
       "      <td>Manhattan Beach</td>\n",
       "      <td>20.767888</td>\n",
       "      <td>2.574006e-89</td>\n",
       "    </tr>\n",
       "    <tr>\n",
       "      <th>9</th>\n",
       "      <td>Cahuenga Pass</td>\n",
       "      <td>11.018876</td>\n",
       "      <td>1.723502e-27</td>\n",
       "    </tr>\n",
       "  </tbody>\n",
       "</table>\n",
       "</div>"
      ],
      "text/plain": [
       "                    City  Statistic        p-value\n",
       "0                 Malibu  38.755689  6.246721e-285\n",
       "1  Bel Air/Beverly Crest  36.171455  2.913160e-255\n",
       "2          Laurel Canyon  20.541878   1.346300e-88\n",
       "3          Beverly Hills  21.981779  1.384482e-103\n",
       "4      Pacific Palisades  20.644617   1.980607e-88\n",
       "5           Palos Verdes   7.318458   5.427359e-12\n",
       "6                 Encino  10.768200   1.920092e-26\n",
       "7        Hollywood Hills  24.960607  2.007628e-133\n",
       "8        Manhattan Beach  20.767888   2.574006e-89\n",
       "9          Cahuenga Pass  11.018876   1.723502e-27"
      ]
     },
     "execution_count": 15,
     "metadata": {},
     "output_type": "execute_result"
    }
   ],
   "source": [
    "city.p_value_test()"
   ]
  },
  {
   "cell_type": "markdown",
   "metadata": {},
   "source": [
    "### And what about amenities? What are the amenities an airbnb listing should offer to guarantee a high price?"
   ]
  },
  {
   "cell_type": "code",
   "execution_count": 16,
   "metadata": {},
   "outputs": [
    {
     "data": {
      "text/html": [
       "<div>\n",
       "<style scoped>\n",
       "    .dataframe tbody tr th:only-of-type {\n",
       "        vertical-align: middle;\n",
       "    }\n",
       "\n",
       "    .dataframe tbody tr th {\n",
       "        vertical-align: top;\n",
       "    }\n",
       "\n",
       "    .dataframe thead th {\n",
       "        text-align: right;\n",
       "    }\n",
       "</style>\n",
       "<table border=\"1\" class=\"dataframe\">\n",
       "  <thead>\n",
       "    <tr style=\"text-align: right;\">\n",
       "      <th></th>\n",
       "      <th>Item</th>\n",
       "      <th>Coefficient</th>\n",
       "      <th>R2</th>\n",
       "      <th>p-value</th>\n",
       "      <th>Std Error</th>\n",
       "    </tr>\n",
       "  </thead>\n",
       "  <tbody>\n",
       "    <tr>\n",
       "      <th>11</th>\n",
       "      <td>Pool</td>\n",
       "      <td>191.222240</td>\n",
       "      <td>2.475941</td>\n",
       "      <td>0.000000e+00</td>\n",
       "      <td>1.659285</td>\n",
       "    </tr>\n",
       "    <tr>\n",
       "      <th>8</th>\n",
       "      <td>Hot tub</td>\n",
       "      <td>201.618698</td>\n",
       "      <td>2.299449</td>\n",
       "      <td>0.000000e+00</td>\n",
       "      <td>1.817039</td>\n",
       "    </tr>\n",
       "    <tr>\n",
       "      <th>12</th>\n",
       "      <td>Free parking on premises</td>\n",
       "      <td>101.973123</td>\n",
       "      <td>0.947114</td>\n",
       "      <td>0.000000e+00</td>\n",
       "      <td>1.441833</td>\n",
       "    </tr>\n",
       "    <tr>\n",
       "      <th>0</th>\n",
       "      <td>TV</td>\n",
       "      <td>106.056190</td>\n",
       "      <td>0.677348</td>\n",
       "      <td>0.000000e+00</td>\n",
       "      <td>1.775625</td>\n",
       "    </tr>\n",
       "    <tr>\n",
       "      <th>7</th>\n",
       "      <td>Washer</td>\n",
       "      <td>73.389162</td>\n",
       "      <td>0.352920</td>\n",
       "      <td>0.000000e+00</td>\n",
       "      <td>1.704994</td>\n",
       "    </tr>\n",
       "    <tr>\n",
       "      <th>1</th>\n",
       "      <td>Cable TV</td>\n",
       "      <td>64.761884</td>\n",
       "      <td>0.340386</td>\n",
       "      <td>0.000000e+00</td>\n",
       "      <td>1.532111</td>\n",
       "    </tr>\n",
       "    <tr>\n",
       "      <th>6</th>\n",
       "      <td>Kitchen</td>\n",
       "      <td>90.300807</td>\n",
       "      <td>0.299557</td>\n",
       "      <td>0.000000e+00</td>\n",
       "      <td>2.277703</td>\n",
       "    </tr>\n",
       "    <tr>\n",
       "      <th>5</th>\n",
       "      <td>Gym</td>\n",
       "      <td>70.900715</td>\n",
       "      <td>0.237331</td>\n",
       "      <td>2.734240e-272</td>\n",
       "      <td>2.009805</td>\n",
       "    </tr>\n",
       "    <tr>\n",
       "      <th>9</th>\n",
       "      <td>Free street parking</td>\n",
       "      <td>-49.150566</td>\n",
       "      <td>0.217505</td>\n",
       "      <td>1.069084e-249</td>\n",
       "      <td>1.455520</td>\n",
       "    </tr>\n",
       "    <tr>\n",
       "      <th>3</th>\n",
       "      <td>Air conditioning</td>\n",
       "      <td>51.331977</td>\n",
       "      <td>0.185019</td>\n",
       "      <td>1.100044e-212</td>\n",
       "      <td>1.648447</td>\n",
       "    </tr>\n",
       "    <tr>\n",
       "      <th>10</th>\n",
       "      <td>Heating</td>\n",
       "      <td>35.981227</td>\n",
       "      <td>0.053364</td>\n",
       "      <td>1.100811e-62</td>\n",
       "      <td>2.152934</td>\n",
       "    </tr>\n",
       "    <tr>\n",
       "      <th>2</th>\n",
       "      <td>Wifi</td>\n",
       "      <td>-32.409847</td>\n",
       "      <td>0.010372</td>\n",
       "      <td>1.756593e-13</td>\n",
       "      <td>4.399734</td>\n",
       "    </tr>\n",
       "    <tr>\n",
       "      <th>4</th>\n",
       "      <td>Internet</td>\n",
       "      <td>-3.690562</td>\n",
       "      <td>0.001083</td>\n",
       "      <td>1.729491e-02</td>\n",
       "      <td>1.550406</td>\n",
       "    </tr>\n",
       "  </tbody>\n",
       "</table>\n",
       "</div>"
      ],
      "text/plain": [
       "                        Item  Coefficient        R2        p-value  Std Error\n",
       "11                      Pool   191.222240  2.475941   0.000000e+00   1.659285\n",
       "8                    Hot tub   201.618698  2.299449   0.000000e+00   1.817039\n",
       "12  Free parking on premises   101.973123  0.947114   0.000000e+00   1.441833\n",
       "0                         TV   106.056190  0.677348   0.000000e+00   1.775625\n",
       "7                     Washer    73.389162  0.352920   0.000000e+00   1.704994\n",
       "1                   Cable TV    64.761884  0.340386   0.000000e+00   1.532111\n",
       "6                    Kitchen    90.300807  0.299557   0.000000e+00   2.277703\n",
       "5                        Gym    70.900715  0.237331  2.734240e-272   2.009805\n",
       "9        Free street parking   -49.150566  0.217505  1.069084e-249   1.455520\n",
       "3           Air conditioning    51.331977  0.185019  1.100044e-212   1.648447\n",
       "10                   Heating    35.981227  0.053364   1.100811e-62   2.152934\n",
       "2                       Wifi   -32.409847  0.010372   1.756593e-13   4.399734\n",
       "4                   Internet    -3.690562  0.001083   1.729491e-02   1.550406"
      ]
     },
     "execution_count": 16,
     "metadata": {},
     "output_type": "execute_result"
    }
   ],
   "source": [
    "city.amenities()"
   ]
  },
  {
   "cell_type": "markdown",
   "metadata": {},
   "source": [
    "* After running a regression with the presence or absence (binary variable) of a list of basic ammenities. We found out that the Pool, Hot tub, Free parking, TV and Washer ammenities are those that have a bigger explanatory power to \"explain\" the price of Airbnb listings.   "
   ]
  },
  {
   "cell_type": "markdown",
   "metadata": {},
   "source": [
    "* Now that we know what an Airbnb should offer, where should it be located and what type should it be. Let's focus now on the reviews. According to our analysis, reviews play an important part in the price. "
   ]
  },
  {
   "cell_type": "code",
   "execution_count": 17,
   "metadata": {},
   "outputs": [
    {
     "data": {
      "text/html": [
       "<div>\n",
       "<style scoped>\n",
       "    .dataframe tbody tr th:only-of-type {\n",
       "        vertical-align: middle;\n",
       "    }\n",
       "\n",
       "    .dataframe tbody tr th {\n",
       "        vertical-align: top;\n",
       "    }\n",
       "\n",
       "    .dataframe thead th {\n",
       "        text-align: right;\n",
       "    }\n",
       "</style>\n",
       "<table border=\"1\" class=\"dataframe\">\n",
       "  <thead>\n",
       "    <tr style=\"text-align: right;\">\n",
       "      <th></th>\n",
       "      <th>Coefficent</th>\n",
       "      <th>R2</th>\n",
       "      <th>p-value</th>\n",
       "      <th>Std error</th>\n",
       "    </tr>\n",
       "  </thead>\n",
       "  <tbody>\n",
       "    <tr>\n",
       "      <th>0</th>\n",
       "      <td>1.102121</td>\n",
       "      <td>0.113553</td>\n",
       "      <td>6.469856e-104</td>\n",
       "      <td>0.050899</td>\n",
       "    </tr>\n",
       "  </tbody>\n",
       "</table>\n",
       "</div>"
      ],
      "text/plain": [
       "   Coefficent        R2        p-value  Std error\n",
       "0    1.102121  0.113553  6.469856e-104   0.050899"
      ]
     },
     "execution_count": 17,
     "metadata": {},
     "output_type": "execute_result"
    }
   ],
   "source": [
    "city.reviews()"
   ]
  },
  {
   "cell_type": "markdown",
   "metadata": {},
   "source": [
    "There is a clear relationship between avg reviews and avg price for the cases analyzed. The better review, the higher the price.\n",
    "\n",
    "Reviews are broken down by type of review [Accuracy, Cleanliness, Check in, Communication, Location and Value] and based on our correlation matrix, Accuracy and Value reviews are related to General Review. "
   ]
  },
  {
   "cell_type": "code",
   "execution_count": 18,
   "metadata": {},
   "outputs": [
    {
     "data": {
      "image/png": "[encoded data removed]",
      "text/plain": [
       "<Figure size 720x576 with 2 Axes>"
      ]
     },
     "metadata": {
      "needs_background": "light"
     },
     "output_type": "display_data"
    }
   ],
   "source": [
    "#Correlation coeficient\n",
    "city.correlation()"
   ]
  },
  {
   "cell_type": "markdown",
   "metadata": {},
   "source": [
    "Having said that, once you are operating under airbnb, focus on checking your reviews, specially the ones related to Accuracy and Value, and try to cover any holes you might find."
   ]
  },
  {
   "cell_type": "markdown",
   "metadata": {},
   "source": [
    "# Airbnb vs honest job USA"
   ]
  },
  {
   "cell_type": "code",
   "execution_count": 19,
   "metadata": {},
   "outputs": [
    {
     "data": {
      "text/html": [
       "<div>\n",
       "<style scoped>\n",
       "    .dataframe tbody tr th:only-of-type {\n",
       "        vertical-align: middle;\n",
       "    }\n",
       "\n",
       "    .dataframe tbody tr th {\n",
       "        vertical-align: top;\n",
       "    }\n",
       "\n",
       "    .dataframe thead th {\n",
       "        text-align: right;\n",
       "    }\n",
       "</style>\n",
       "<table border=\"1\" class=\"dataframe\">\n",
       "  <thead>\n",
       "    <tr style=\"text-align: right;\">\n",
       "      <th></th>\n",
       "      <th>Airbnb monthly revenue</th>\n",
       "      <th>Average USA wage 2018</th>\n",
       "    </tr>\n",
       "  </thead>\n",
       "  <tbody>\n",
       "    <tr>\n",
       "      <th>2018</th>\n",
       "      <td>$5,975.40</td>\n",
       "      <td>$3,605.59</td>\n",
       "    </tr>\n",
       "  </tbody>\n",
       "</table>\n",
       "</div>"
      ],
      "text/plain": [
       "     Airbnb monthly revenue Average USA wage 2018\n",
       "2018              $5,975.40             $3,605.59"
      ]
     },
     "execution_count": 19,
     "metadata": {},
     "output_type": "execute_result"
    }
   ],
   "source": [
    "Average_daily_rate =  199.18\n",
    "Airbnb_month = Average_daily_rate*30\n",
    "wage = pd.read_csv('csv/lbs.csv')\n",
    "month_average = wage.mean(axis=1)\n",
    "wage_2 = pd.DataFrame({'Airbnb monthly revenue': [5975.40], 'Average USA wage 2018': [3605.59]})\n",
    "wage_2.rename(index={0:'2018'},inplace=True)\n",
    "wage_2_output = wage_2.copy()\n",
    "wage_2_output.applymap('${:,.2f}'.format)"
   ]
  },
  {
   "cell_type": "markdown",
   "metadata": {},
   "source": [
    "##### Assuming a host actually has a month full of bookings, is more profitable to be an Airbnb host than go everyday to work"
   ]
  },
  {
   "cell_type": "code",
   "execution_count": 22,
   "metadata": {},
   "outputs": [
    {
     "data": {
      "text/plain": [
       "Text(0, 0.5, 'USD')"
      ]
     },
     "execution_count": 22,
     "metadata": {},
     "output_type": "execute_result"
    },
    {
     "data": {
      "image/png": "[encoded data removed]",
      "text/plain": [
       "<Figure size 432x288 with 1 Axes>"
      ]
     },
     "metadata": {
      "needs_background": "light"
     },
     "output_type": "display_data"
    }
   ],
   "source": [
    "wage_2.plot(kind='bar')\n",
    "plt.title(\"Airbnb vs honest job USA\")\n",
    "\n",
    "plt.ylabel(\"USD\")"
   ]
  },
  {
   "cell_type": "markdown",
   "metadata": {},
   "source": [
    "# Conclussions: \n",
    "##### If you are looking to have a high price airbnb listing, these are the factors you should take into account:\n",
    "\n",
    "* Offer an entire home/apt, if you have the option, or a private room, if the first option is not available.\n",
    "\n",
    "* Location, location, location. The cited neighbourhoods will almost guarantee you a high price.\n",
    "\n",
    "*  There is evidence stating that cited  amenities have a relatively high explanatory power and important weight in the airbnb prices.\n",
    "\n",
    "* Check your reviews. Specially the accuracy and the value reviews. Check the feedback visitors provide and try to improve constantly in these fields"
   ]
  },
  {
   "cell_type": "markdown",
   "metadata": {},
   "source": [
    "# Thank you!"
   ]
  }
 ],
 "metadata": {
  "kernelspec": {
   "display_name": "Python 3",
   "language": "python",
   "name": "python3"
  },
  "language_info": {
   "codemirror_mode": {
    "name": "ipython",
    "version": 3
   },
   "file_extension": ".py",
   "mimetype": "text/x-python",
   "name": "python",
   "nbconvert_exporter": "python",
   "pygments_lexer": "ipython3",
   "version": "3.7.1"
  }
 },
 "nbformat": 4,
 "nbformat_minor": 2
}
